{
 "cells": [
  {
   "cell_type": "markdown",
   "id": "86fd56bf",
   "metadata": {},
   "source": [
    "# Analysis of PbSO4 refinement results\n",
    "The results from least-squares, bumps-dream, and emcee will be compared and discussed."
   ]
  },
  {
   "cell_type": "code",
   "execution_count": 1,
   "id": "a2970c65",
   "metadata": {},
   "outputs": [],
   "source": [
    "import numpy as np\n",
    "import matplotlib.pyplot as plt\n",
    "import seaborn as sns\n",
    "sns.set_context('notebook')"
   ]
  },
  {
   "cell_type": "code",
   "execution_count": 2,
   "id": "1f3f656b",
   "metadata": {},
   "outputs": [],
   "source": [
    "# Read all data\n",
    "data_least_squares = np.load('refinement_results/least_squares.npy', allow_pickle=True).item()\n",
    "data_bumps = np.load('refinement_results/bumps_dream_steps5000_burn500_pop1.npy', allow_pickle=True).item()"
   ]
  },
  {
   "cell_type": "code",
   "execution_count": 3,
   "id": "98e44931",
   "metadata": {},
   "outputs": [
    {
     "name": "stdout",
     "output_type": "stream",
     "text": [
      "dict_keys(['length_a', 'length_b', 'length_c', 'scale', 'resolution_u', 'resolution_v', 'resolution_w', 'zero_shift', 'intensity', 'intensity-1'])\n",
      "dict_keys(['names', 'samples', 'logp', 'parameters'])\n"
     ]
    }
   ],
   "source": [
    "print(data_least_squares.keys())\n",
    "print(data_bumps.keys())"
   ]
  },
  {
   "cell_type": "markdown",
   "id": "086afbd3",
   "metadata": {},
   "source": [
    "The obtained parameters and their respective errorbars.     \n",
    "There is an systematic underestimation in the errorbars from bumps-DREAM as disucssed [here](https://github.com/bumps/bumps/pull/94)"
   ]
  },
  {
   "cell_type": "code",
   "execution_count": 5,
   "id": "7f82c9c7",
   "metadata": {},
   "outputs": [
    {
     "name": "stdout",
     "output_type": "stream",
     "text": [
      "intensity      : least-squares  197.1217 +- 1.242605 | bumps  240.4465 +- 0.873294\n",
      "intensity-1    : least-squares  240.0542 +- 1.605187 | bumps  196.9511 +- 0.650893\n",
      "length_a       : least-squares    8.4770 +- 0.000271 | bumps    8.4769 +- 0.000151\n",
      "length_b       : least-squares    5.3958 +- 0.000187 | bumps    5.3957 +- 0.000117\n",
      "length_c       : least-squares    6.9558 +- 0.000319 | bumps    6.9558 +- 0.000168\n",
      "resolution_u   : least-squares    0.1948 +- 0.015901 | bumps    0.1938 +- 0.009232\n",
      "resolution_v   : least-squares   -0.4756 +- 0.030428 | bumps   -0.4747 +- 0.016805\n",
      "resolution_w   : least-squares    0.4787 +- 0.012812 | bumps    0.4793 +- 0.006860\n",
      "scale          : least-squares    1.2105 +- 0.005795 | bumps    1.2101 +- 0.003277\n",
      "zero_shift     : least-squares    0.1568 +- 0.002768 | bumps    0.1578 +- 0.001670\n"
     ]
    }
   ],
   "source": [
    "for name in sorted(data_least_squares.keys()):\n",
    "    p1 = data_least_squares[name]\n",
    "    p2 = data_bumps['parameters'][name]\n",
    "    print(f'{name:15}: least-squares {p1[0]:9.4f} +- {p1[1]:8.6f} | bumps {p2[0]:9.4f} +- {p2[1]:8.6f}')"
   ]
  },
  {
   "cell_type": "markdown",
   "id": "f58262c5",
   "metadata": {},
   "source": [
    "## Analysis of posterior distributions obtained by MC simulations"
   ]
  },
  {
   "cell_type": "code",
   "execution_count": null,
   "id": "7ab02c15",
   "metadata": {},
   "outputs": [],
   "source": []
  }
 ],
 "metadata": {
  "kernelspec": {
   "display_name": "Python 3 (ipykernel)",
   "language": "python",
   "name": "python3"
  },
  "language_info": {
   "codemirror_mode": {
    "name": "ipython",
    "version": 3
   },
   "file_extension": ".py",
   "mimetype": "text/x-python",
   "name": "python",
   "nbconvert_exporter": "python",
   "pygments_lexer": "ipython3",
   "version": "3.8.10"
  }
 },
 "nbformat": 4,
 "nbformat_minor": 5
}
