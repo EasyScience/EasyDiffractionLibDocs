{
 "cells": [
  {
   "cell_type": "markdown",
   "id": "84af3f91-c642-4248-9845-6e2c66ea9479",
   "metadata": {},
   "source": [
    "# Fitting a simple slab model\n",
    "\n",
    "In order to show one of the simplest analyses that `EasyReflectometry` can perform, we will use the [great example from the *refnx* documentation](https://refnx.readthedocs.io/en/latest/getting_started.html#Fitting-a-neutron-reflectometry-dataset).\n",
    "This involves the analysis of a single neutron reflectometry dataset from a hydrated polymer film system. \n",
    "Before we start on any analysis, we will import the necessary packages and functions."
   ]
  },
  {
   "cell_type": "code",
   "execution_count": null,
   "id": "f026d35c-6a4a-4e9d-889c-d23ea6ee7adc",
   "metadata": {},
   "outputs": [],
   "source": [
    "import EasyReflectometry\n",
    "import refnx\n",
    "from EasyReflectometry.data import load\n",
    "from EasyReflectometry.sample import Layer, Structure\n",
    "from EasyReflectometry.sample.material import Material\n",
    "from EasyReflectometry.sample.item import MultiLayer\n",
    "from EasyReflectometry.experiment.model import Model\n",
    "from EasyReflectometry.interface import InterfaceFactory as Interface\n",
    "from EasyReflectometry.fitting import Fitter\n",
    "from EasyReflectometry.plot import plot"
   ]
  },
  {
   "cell_type": "markdown",
   "id": "b11e304d-38f4-4537-b85b-59f588bed0a4",
   "metadata": {},
   "source": [
    "One of benefits of using a Jupyter Notebook for our analysis is improved reproducibility, to ensure this, below we share the version of the software packages being used."
   ]
  },
  {
   "cell_type": "code",
   "execution_count": null,
   "id": "373da698-2e50-4508-8738-7e0618e71ef1",
   "metadata": {},
   "outputs": [],
   "source": [
    "print(f'EasyReflectometry: {EasyReflectometry.__version__}')\n",
    "print(f'refnx: {refnx.__version__}')"
   ]
  },
  {
   "cell_type": "markdown",
   "id": "5d4759d6-9758-4ff4-a8d0-62b0eacde1be",
   "metadata": {},
   "source": [
    "## Reading in experimental data\n",
    "\n",
    "`EasyReflectometry` has support for the `.ort` file format, a [standard file format for reduced reflectivity data developed by the Open Reflectometry Standards Organisation](https://www.reflectometry.org/working_groups/file_formats/). \n",
    "To load in a dataset, we use the `load` function. "
   ]
  },
  {
   "cell_type": "code",
   "execution_count": null,
   "id": "7d851064-605c-4f80-a510-197bcdbff2ea",
   "metadata": {},
   "outputs": [],
   "source": [
    "data = load('_static/example.ort')"
   ]
  },
  {
   "cell_type": "markdown",
   "id": "6e8a484d-83d5-4ac6-864a-c9f133f1447e",
   "metadata": {},
   "source": [
    "The function about will load the file into a [*scipp* Dataset](https://scipp.github.io/user-guide/data-structures.html#Dataset) object. \n",
    "This offers some nice visualisations of the data, including the HTML view. "
   ]
  },
  {
   "cell_type": "code",
   "execution_count": null,
   "id": "0903b11f-93ca-405b-9cdc-3b3d358369df",
   "metadata": {},
   "outputs": [],
   "source": [
    "data"
   ]
  },
  {
   "cell_type": "markdown",
   "id": "1e90efd6-f448-4958-9b18-493a6cbd25a5",
   "metadata": {},
   "source": [
    "`EasyReflectometry` also includes a custom plotting function for the data. "
   ]
  },
  {
   "cell_type": "code",
   "execution_count": null,
   "id": "28580664-86d3-4d25-9389-6670db7e87e5",
   "metadata": {},
   "outputs": [],
   "source": [
    "plot(data)"
   ]
  },
  {
   "cell_type": "markdown",
   "id": "4ce54e79-18b6-4dda-a83c-2d538eb84b33",
   "metadata": {},
   "source": [
    "## Building our model\n",
    "\n",
    "Now that we have read in the experimental data that we want to analyse, it is necessary that we construct some model that describes what we **think** the system looks like. \n",
    "The construction of this models is discussed in detail in the [model-dependent analysis](https://www.reflectometry.org/isis_school/2_model_dependent_analysis/what_is_model_dependent_analysis.html) and [reflectometry slab models](https://www.reflectometry.org/isis_school/3_reflectometry_slab_models/the_slab_model.html) sections of the ISIS Virtual Reflectometry Training Course on [neutron reflectometry fitting](https://www.reflectometry.org/isis_school/intro.html). \n",
    "\n",
    "The system that we are investigating consists of four layers (with the top and bottom as semi-finite super- and sub-phases). \n",
    "The super-phase (where the neutrons are incident first) is a silicon (Si) wafer and as a process of the sample preparation there is anticipated to by a layer of silicon dioxide (SiO<sub>2</sub>) on this material.\n",
    "Then a polymer film has been attached to the silicon dioxide by some chemical method and this polymer film is solvated in a heavy water (D<sub>2</sub>O) which also makes up the sub-phase of the system. \n",
    "This is shown pictorially below, as a slab model. \n",
    "\n",
    "<center>\n",
    "    <img src='_static/polymer_film.png' alt='A slab model description of the polymer film system.' width='300px'></img>\n",
    "</center>\n",
    "<center>\n",
    "    A slab model description of the polymer film system (note that the layers are <b>not</b> to scale), showing the four layers of silicon, silicon dioxide, the polymer film and the heavy water subphase.\n",
    "</center>\n",
    "\n",
    "In order to constuct this model in `EasyReflecotmetry`, first we must construct objects for each of the materials that will compose the layers.\n",
    "These objects should be of type `Material`, when constructed `from_pars` the arguments are the real and imaginary components of the scattering length density (in units of 10<sup>-6</sup>Å<sup>-2</sup>) and some name for the material. "
   ]
  },
  {
   "cell_type": "code",
   "execution_count": null,
   "id": "1fd5d9ba-a912-40f1-96a9-8d8d85c35c18",
   "metadata": {},
   "outputs": [],
   "source": [
    "si = Material.from_pars(2.07, 0, 'Si')\n",
    "sio2 = Material.from_pars(3.47, 0, 'SiO2')\n",
    "film = Material.from_pars(2.0, 0, 'Film')\n",
    "d2o = Material.from_pars(6.36, 0, 'D2O')"
   ]
  },
  {
   "cell_type": "markdown",
   "id": "7c31f6ab-6a22-4ac6-a058-b7bbac241211",
   "metadata": {},
   "source": [
    "We can investigate the properties of one of these objects as follows."
   ]
  },
  {
   "cell_type": "code",
   "execution_count": null,
   "id": "ed3f08ce-623b-4d08-be48-dbc039ecc5df",
   "metadata": {},
   "outputs": [],
   "source": [
    "film"
   ]
  },
  {
   "cell_type": "markdown",
   "id": "1d11949f-5b75-4185-94bf-bd41c9f4f145",
   "metadata": {},
   "source": [
    "Next we will produce layers from each of these materials, of type `Layer`. The `from_pars` constructor for these take the material, a thickness and a interfacial roughness (on the top of the layer). The thickness and roughness values are both in Å. "
   ]
  },
  {
   "cell_type": "code",
   "execution_count": null,
   "id": "bfd2d8a1-35fe-4a6c-aeee-93f1b4066b61",
   "metadata": {},
   "outputs": [],
   "source": [
    "si_layer = Layer.from_pars(si, 0, 0, 'Si layer')\n",
    "sio2_layer = Layer.from_pars(sio2, 30, 3, 'SiO2 layer')\n",
    "film_layer = Layer.from_pars(film, 250, 3, 'Film Layer')\n",
    "superphase = Layer.from_pars(d2o, 0, 3, 'D2O Subphase')"
   ]
  },
  {
   "cell_type": "markdown",
   "id": "8e165a80-66d9-469f-a013-e776e63513e6",
   "metadata": {},
   "source": [
    "Again, we can probe the properties of the layer as such."
   ]
  },
  {
   "cell_type": "code",
   "execution_count": null,
   "id": "a376085b-56a9-4823-9293-c58c294c6f70",
   "metadata": {},
   "outputs": [],
   "source": [
    "film_layer"
   ]
  },
  {
   "cell_type": "markdown",
   "id": "7247fc52-6874-47eb-a234-c7bb7db229fd",
   "metadata": {},
   "source": [
    "Given that the silicon and silicon dioxide layer both compose the solid subphase, it can be helpful to combine these as a `Multilayer` [item type](./item_library.html#multilayer) in our code. "
   ]
  },
  {
   "cell_type": "code",
   "execution_count": null,
   "id": "a6508395-d292-4338-9fbe-77e19b011ae6",
   "metadata": {},
   "outputs": [],
   "source": [
    "subphase = MultiLayer.from_pars([si_layer, sio2_layer], name='Si/SiO2 Superphase')"
   ]
  },
  {
   "cell_type": "markdown",
   "id": "a3a2df9b-8ddb-4b3e-a5c3-55b72280b651",
   "metadata": {},
   "source": [
    "These objects are then combined as a `Structure`, where the constructor takes a series of layers (or some more complex `EasyReflectometry` [item](./item_library.html)) and, optionally, some name for the structure."
   ]
  },
  {
   "cell_type": "code",
   "execution_count": null,
   "id": "2a0aee2a-e77e-4558-a8b0-ef2d1cffd4d0",
   "metadata": {},
   "outputs": [],
   "source": [
    "structure = Structure.from_pars(subphase, film_layer, superphase, name='Film Structure')"
   ]
  },
  {
   "cell_type": "markdown",
   "id": "b3e5d88e-3da4-4a3e-8067-80e9cd35be8f",
   "metadata": {},
   "source": [
    "This structure can be investigated from the string representation like the other objects. "
   ]
  },
  {
   "cell_type": "code",
   "execution_count": null,
   "id": "335ed125-f1a6-4366-90b3-d7343b95a258",
   "metadata": {},
   "outputs": [],
   "source": [
    "structure"
   ]
  },
  {
   "cell_type": "markdown",
   "id": "cdd4de17-0802-483a-b706-9b4781dfc57a",
   "metadata": {},
   "source": [
    "## Constructing the model\n",
    "\n",
    "The structure of the system under investigation is just part of the analysis story. \n",
    "It is also necessary to describe the instrumental parameters, namely the background level, the resolution and some option to scale the data in the *y*-axis. \n",
    "<div class=\"alert alert-info\">\n",
    "    \n",
    "Note\n",
    "    \n",
    "Currently, only constant with resolution is supported. We are working to include more complex resolution in future.\n",
    "\n",
    "</div>\n",
    "\n",
    "the `Model` constructor takes our structure, a scale factor, a uniform background level and a resolution width. "
   ]
  },
  {
   "cell_type": "code",
   "execution_count": null,
   "id": "8646c977-28b4-4cd4-adbd-fc263359ca1c",
   "metadata": {},
   "outputs": [],
   "source": [
    "model = Model.from_pars(structure, 1, 1e-6, 0.02, 'Film Model')"
   ]
  },
  {
   "cell_type": "markdown",
   "id": "d22153d8-63d9-4542-8b29-4ff7dd73b79a",
   "metadata": {},
   "source": [
    "From this object, we can investigate all of the parameters of our model."
   ]
  },
  {
   "cell_type": "code",
   "execution_count": null,
   "id": "3b4aaba2-6dda-4e4a-b56f-e2ffcf935017",
   "metadata": {},
   "outputs": [],
   "source": [
    "model"
   ]
  },
  {
   "cell_type": "markdown",
   "id": "bb368824-f0fa-411e-b895-70f596e60a53",
   "metadata": {},
   "source": [
    "## Setting varying parameters\n",
    "\n",
    "Now that the model is fully constructed, we can select the parameters in our model that should be varied. \n",
    "Below we set the thickness of the SiO<sub>2</sub> and film layers to vary along with the real scattering length density of the film and all of the roughnesses. "
   ]
  },
  {
   "cell_type": "code",
   "execution_count": null,
   "id": "a4d3eae5-ec8d-4a7f-91ef-fcce3cc5a5ed",
   "metadata": {},
   "outputs": [],
   "source": [
    "# Thicknesses\n",
    "sio2_layer.thickness.bounds = (15, 50)\n",
    "film_layer.thickness.bounds = (200, 300)\n",
    "# Roughnesses\n",
    "sio2_layer.roughness.bounds = (1, 15)\n",
    "film_layer.roughness.bounds = (1, 15)\n",
    "superphase.roughness.bounds = (1, 15)\n",
    "# Scattering length density\n",
    "film_layer.material.sld.bounds = (0.1, 3)"
   ]
  },
  {
   "cell_type": "markdown",
   "id": "4b909563-a780-4c35-8995-17e53d559114",
   "metadata": {},
   "source": [
    "In addition to these variables of the structure, we will also vary the background level and scale factor. "
   ]
  },
  {
   "cell_type": "code",
   "execution_count": null,
   "id": "7e2d7b81-7b49-4831-9508-75e0e234f15f",
   "metadata": {},
   "outputs": [],
   "source": [
    "# Background\n",
    "model.background.bounds = (1e-8, 1e-5)\n",
    "# Scale\n",
    "model.scale.bounds = (0.5, 1.5)"
   ]
  },
  {
   "cell_type": "markdown",
   "id": "14bef528-08de-41a6-99cd-c74d40409164",
   "metadata": {
    "tags": []
   },
   "source": [
    "## Choosing our calculation engine\n",
    "\n",
    "The `EasyReflectometry` package enables the calculation of the reflectometry profile using either [*refnx*](https://refnx.readthedocs.io/) or [*Refl1D*](https://refl1d.readthedocs.io/en/latest/).\n",
    "For this tutorial, we will stick to the current default, which is *refnx*. \n",
    "The calculator must be created and associated with the model that we are to fit. "
   ]
  },
  {
   "cell_type": "code",
   "execution_count": null,
   "id": "cdbe172a-1283-4cdc-8fb2-d3383b8d21b3",
   "metadata": {},
   "outputs": [],
   "source": [
    "interface = Interface()\n",
    "model.interface = interface"
   ]
  },
  {
   "cell_type": "markdown",
   "id": "126c7ab2-79fc-461a-9cde-49edfabbf25b",
   "metadata": {},
   "source": [
    "We can check the calculation engine currently in use as follows. "
   ]
  },
  {
   "cell_type": "code",
   "execution_count": null,
   "id": "0409e2ab-3554-425d-8e9c-2e64de41878d",
   "metadata": {},
   "outputs": [],
   "source": [
    "print(interface.current_interface.name)"
   ]
  },
  {
   "cell_type": "markdown",
   "id": "62f596b8-eae5-4fc6-96cc-047ebd689778",
   "metadata": {},
   "source": [
    "## Performing an optimisation\n",
    "\n",
    "The optimisation of our model is achieved with a `Fitter`, which takes our model and calculator. "
   ]
  },
  {
   "cell_type": "code",
   "execution_count": null,
   "id": "3648873e-16bb-449d-b90d-8b1bd4f05eb6",
   "metadata": {},
   "outputs": [],
   "source": [
    "fitter = Fitter([model], [interface.fit_func])"
   ]
  },
  {
   "cell_type": "markdown",
   "id": "3f42dfb0-082c-487f-b2ae-b89bfa523a36",
   "metadata": {},
   "source": [
    "To actually perform the optimisation, we must pass our `data` object created from the experimental data. \n",
    "This will return a new `sc.Dataset` with the result of out analysis, and the model will be updated in place. "
   ]
  },
  {
   "cell_type": "code",
   "execution_count": null,
   "id": "9762fc0b-c4c2-4f92-8560-079ea248dfca",
   "metadata": {},
   "outputs": [],
   "source": [
    "analysed = fitter.fit(data)"
   ]
  },
  {
   "cell_type": "code",
   "execution_count": null,
   "id": "80706bce-89ee-4256-8cd6-735d666b9561",
   "metadata": {},
   "outputs": [],
   "source": [
    "analysed"
   ]
  },
  {
   "cell_type": "markdown",
   "id": "4d0a60aa-31cf-47ea-8a72-786c08de7c45",
   "metadata": {},
   "source": [
    "The same `plot` function that was used on the raw data can be used for this `analysed` object and will show the best fit simulated data and the associated scattering length density profile. "
   ]
  },
  {
   "cell_type": "code",
   "execution_count": null,
   "id": "47efa2d9-8f84-407b-98f7-a553d220e1f2",
   "metadata": {},
   "outputs": [],
   "source": [
    "plot(analysed)"
   ]
  },
  {
   "cell_type": "markdown",
   "id": "a786724f-ec35-4b02-9d54-02536e620717",
   "metadata": {},
   "source": [
    "Finally, from the string representation of the parameters we can obtain information about the optimised values."
   ]
  },
  {
   "cell_type": "code",
   "execution_count": null,
   "id": "5339f50e-4e46-4a1a-9da5-3a2cf47580f2",
   "metadata": {},
   "outputs": [],
   "source": [
    "model"
   ]
  },
  {
   "cell_type": "markdown",
   "id": "df6db8c3-6515-478b-bd2e-aac967579231",
   "metadata": {},
   "source": [
    "We note here that the results obtained are very similar to those from the [*refnx* tutorial](https://refnx.readthedocs.io/en/latest/getting_started.html#Fitting-a-neutron-reflectometry-dataset), which is hardly surprising given that we have used the *refnx* engine in this example."
   ]
  }
 ],
 "metadata": {
  "kernelspec": {
   "display_name": "Python 3 (ipykernel)",
   "language": "python",
   "name": "python3"
  },
  "language_info": {
   "codemirror_mode": {
    "name": "ipython",
    "version": 3
   },
   "file_extension": ".py",
   "mimetype": "text/x-python",
   "name": "python",
   "nbconvert_exporter": "python",
   "pygments_lexer": "ipython3",
   "version": "3.9.12"
  }
 },
 "nbformat": 4,
 "nbformat_minor": 5
}
