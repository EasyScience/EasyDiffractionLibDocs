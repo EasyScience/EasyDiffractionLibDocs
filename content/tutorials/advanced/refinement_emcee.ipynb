{
 "cells": [
  {
   "cell_type": "markdown",
   "id": "8d1cb541",
   "metadata": {},
   "source": [
    "# Refinement of PbSO4 with emcee\n",
    "\n",
    "In this example we take a bayesian approach to the refinment process, and rather than looking for the optimal set of parameters we compute the probability distribution over the parameters."
   ]
  },
  {
   "cell_type": "markdown",
   "id": "0353848c",
   "metadata": {},
   "source": [
    "## Bayesian refinment\n",
    "\n",
    "**Goal:** Finding the posterior probability distribution over parameters, $P(\\boldsymbol{x}|D)$,  given some data D  and prior knowledge.\n",
    "\n",
    "* Experimental data D ($y^\\text{exp}$) \n",
    "* $\\boldsymbol{x}$ parameters to be refined $\\boldsymbol{x}$=($\\boldsymbol{x}_\\text{experiment}$, $\\boldsymbol{x}_\\text{instrument}$, $\\boldsymbol{x}_\\text{sample}$)\n",
    "* Simulated diffraction pattern $y^\\text{sim}=f(\\boldsymbol{x})$\n",
    "\n",
    "\n",
    "The posterior for parameters is\n",
    "\\begin{equation}\n",
    "\\large\n",
    "\\underbrace{P(\\boldsymbol{x}|D)}_\\text{Posterior} = \\underbrace{P(D|\\boldsymbol{x})}_\\text{Likelihood}\\, \\, \\underbrace{P(\\boldsymbol{x})}_\\text{Priors}\n",
    "\\end{equation}\n",
    "\n",
    "### Likelihood\n",
    "We assume independent and (almost)identical normal distributed errors. But we take into account heteroscedasticity that is commonly done for diffraction data, i.e. uncertainty scales with sqrt of intensity, which be achived by modeling the data as\n",
    "\\begin{equation}\n",
    "\\large\n",
    "y^\\text{exp}_i = y^\\text{sim}_i + \\epsilon_i \\\\\n",
    "\\large\n",
    "\\epsilon_i \\sim \\mathcal{N}(\\mu=0, \\sigma^2_i = \\sigma^2 \\cdot y^\\text{exp}_i).\n",
    "\\end{equation}\n",
    "where $\\epsilon_i$ is the error between the experimental (exp) and simulated (sim) diffraction patterns.\n",
    "\n",
    "And then we get a likelihood that looks like\n",
    "\\begin{equation}\n",
    "\\large\n",
    "P(D|\\boldsymbol{x}) \\propto \\exp{\\left (- \\frac{\\sum_i (y^\\text{sim}_i- y^\\text{exp}_i)^2 }{\\sigma^2 y^\\text{exp}_i}\\right )}\n",
    "\\end{equation}\n",
    "Note here that $\\sigma$ is also a free parameter that we need to include in our modeling.\n",
    "\n",
    "\n",
    "### Priors\n",
    "In this example we encode no information in the priors, but in princple any prior knowledge about the same could and should be encoded in the prior probability distribution.\n",
    "\n",
    "\n",
    "### Posterior \n",
    "Finding parameters that maximizes the posterior is equvivalent to regular optimization (least-squares).\n",
    "\n",
    "Obtaining the posterior probability distribution is done via MCMC-sampling with `emcee`, see their [documentation](https://emcee.readthedocs.io/en/stable/) for more details.\n",
    "\n",
    "### More information\n",
    "See the \"Use of Bayesian Inference in Crystallographic Structure Refinement via Full Diffraction Profile Analysis\" (doi: https://doi.org/10.1038/srep31625), for more information."
   ]
  },
  {
   "cell_type": "code",
   "execution_count": 1,
   "id": "a5807608",
   "metadata": {},
   "outputs": [
    {
     "name": "stdout",
     "output_type": "stream",
     "text": [
      "GSAS-II binary directory: /home/erik/.local/lib/python3.8/site-packages/GSASII/bindist\n",
      "ImportError for wx/mpl in GSASIIctrlGUI: ignore if docs build\n"
     ]
    }
   ],
   "source": [
    "import numpy as np\n",
    "import matplotlib.pyplot as plt\n",
    "import seaborn as sns\n",
    "import emcee\n",
    "import corner\n",
    "sns.set_context('notebook')\n",
    "\n",
    "# esyScience, diffraction\n",
    "from easyDiffractionLib import Phases\n",
    "from easyDiffractionLib.sample import Sample as Job\n",
    "from easyDiffractionLib.interface import InterfaceFactory as Calculator\n",
    "from easyDiffractionLib.elements.Experiments.Pattern import Pattern1D\n",
    "from easyDiffractionLib.elements.Backgrounds.Point import PointBackground, BackgroundPoint\n",
    "from easyDiffractionLib.Profiles.P1D import Instrument1DCWParameters as CWParams"
   ]
  },
  {
   "cell_type": "markdown",
   "id": "0f605f71",
   "metadata": {},
   "source": [
    "## Helper functions\n",
    "Here we let `theta` be the parameter vector (including $\\sigma$)."
   ]
  },
  {
   "cell_type": "code",
   "execution_count": 2,
   "id": "d7f28cba",
   "metadata": {},
   "outputs": [],
   "source": [
    "# helper functions\n",
    "\n",
    "def print_parameters(job):\n",
    "    \"\"\" Print all fit-parameters in job. \"\"\"\n",
    "    for x in job.get_fit_parameters():\n",
    "        print(x)\n",
    "    \n",
    "\n",
    "def compute_rmse(y_target, y_predicted):\n",
    "    \"\"\" Compute root mean squared error (RMSE) between target and predicted values \"\"\"\n",
    "    delta_y = y_target - y_predicted\n",
    "    rmse = np.sqrt(np.mean(delta_y**2))\n",
    "    return rmse\n",
    "\n",
    "def compute_mse_weighted(y_target, y_predicted):\n",
    "    \"\"\" Compute the weighted mean squared error. (weighting by y_target) \"\"\"\n",
    "    delta_y = y_target - y_predicted\n",
    "    weight = y_target\n",
    "    mse_weighted = np.mean(delta_y**2 / weight)\n",
    "    return mse_weighted"
   ]
  },
  {
   "cell_type": "code",
   "execution_count": 3,
   "id": "113f4a12",
   "metadata": {},
   "outputs": [],
   "source": [
    "# theta_0 is close to least-square solution\n",
    "theta_0 = np.array([2.0, 8.477, 5.3958, 6.9558, 1.21, 0.157, 0.195, -0.47, 0.47, 200, 240])\n",
    "parameter_names = ['sigma', 'length_a', 'length_b', 'length_c', 'scale', 'zero_shift',\n",
    "                   'resolution_u', 'resolution_v', 'resolution_w', 'intensity', 'intensity-1']\n",
    "\n",
    "def generate_starting_theta():\n",
    "    \"\"\" Generate random initial starting point pretty close to theta_0 \"\"\"\n",
    "\n",
    "    # parameters defining how much randomness to add to theta_0\n",
    "    dx_sigma = 1\n",
    "    dx_lattice_parameter = 0.01\n",
    "    dx_scale = 0.05\n",
    "    dx_zeroshift = 0.03\n",
    "    dx_reso = 0.001\n",
    "    dx_bkg = 20\n",
    "    \n",
    "    # randomize theta\n",
    "    theta = theta_0.copy()\n",
    "    theta[0] += np.random.uniform(-dx_sigma, dx_sigma)\n",
    "    \n",
    "    for i in [1, 2, 3]:\n",
    "        theta[i] += np.random.uniform(-dx_lattice_parameter, dx_lattice_parameter)\n",
    "\n",
    "    theta[4] += np.random.uniform(-dx_scale, dx_scale)\n",
    "    theta[5] += np.random.uniform(-dx_zeroshift, dx_zeroshift)\n",
    "    \n",
    "    theta[6] += np.random.uniform(-dx_reso, dx_reso)\n",
    "    theta[7] += np.random.uniform(-dx_reso, dx_reso)\n",
    "    theta[8] += np.random.uniform(-dx_reso, dx_reso)\n",
    "    \n",
    "    theta[9] += np.random.uniform(-dx_bkg, dx_bkg)\n",
    "    theta[10] += np.random.uniform(-dx_bkg, dx_bkg)\n",
    "    return theta\n",
    "\n",
    "\n",
    "def set_job_parameters(job, theta):\n",
    "    \"\"\"\n",
    "    Set all the parameters for the job.\n",
    "    theta[0] is sigma and is thus not used \n",
    "    \"\"\"\n",
    "\n",
    "    job.phases[0].cell.length_a = theta[1]\n",
    "    job.phases[0].cell.length_b = theta[2]\n",
    "    job.phases[0].cell.length_c = theta[3]\n",
    "\n",
    "    job.phases[0].scale = theta[4]\n",
    "    job.pattern.zero_shift = theta[5]\n",
    "    job.parameters.resolution_u = theta[6]\n",
    "    job.parameters.resolution_v = theta[7]\n",
    "    job.parameters.resolution_w = theta[8]\n",
    "    job.backgrounds[0][0].y = theta[9]\n",
    "    job.backgrounds[0][1].y = theta[10]"
   ]
  },
  {
   "cell_type": "markdown",
   "id": "194d0a4b",
   "metadata": {},
   "source": [
    "## Probability functions"
   ]
  },
  {
   "cell_type": "code",
   "execution_count": 4,
   "id": "1d542e70",
   "metadata": {},
   "outputs": [],
   "source": [
    "# define all probabilities, priors, likelihoods, posterios\n",
    "\n",
    "def log_gaussian_likelihood(theta):\n",
    "\n",
    "    # set parameters\n",
    "    sigma = theta[0]\n",
    "    set_job_parameters(job, theta)\n",
    "    \n",
    "    # if calculation fails for any reason, return -inf\n",
    "    try:\n",
    "        y_predicted = calculator.fit_func(meas_x)\n",
    "    except ArithmeticError:\n",
    "        print('  Exception from calc found, -inf')\n",
    "        return -np.inf\n",
    "\n",
    "    # if y contains nan then return -inf\n",
    "    if np.any(np.isnan(y_predicted)):\n",
    "        print('  nan found in predicted values, -inf')\n",
    "        return -np.inf\n",
    "\n",
    "    # compute log-likelihood\n",
    "    sigmas = sigma * np.sqrt(meas_y)\n",
    "    LL = -0.5 * np.sum(np.log(2 * np.pi * sigmas ** 2) + (meas_y - y_predicted) ** 2 / sigmas ** 2)\n",
    "    return LL\n",
    "\n",
    "\n",
    "def log_prior(theta):\n",
    "    sigma = theta[0]\n",
    "    if sigma < 0 or sigma > 1000:\n",
    "        return -np.inf\n",
    "    return 0\n",
    "\n",
    "\n",
    "def log_posterior(theta):\n",
    "    return log_prior(theta) + log_gaussian_likelihood(theta)"
   ]
  },
  {
   "cell_type": "markdown",
   "id": "301e5887",
   "metadata": {},
   "source": [
    "## Load the data and setup Job"
   ]
  },
  {
   "cell_type": "code",
   "execution_count": 5,
   "id": "b1b28ae9",
   "metadata": {},
   "outputs": [
    {
     "name": "stdout",
     "output_type": "stream",
     "text": [
      "Data shape: (2201,) (2201,)\n",
      "Temp CIF: /tmp/easydiffraction_temp.cif\n"
     ]
    }
   ],
   "source": [
    "# load cif\n",
    "cif_fname = '../datasets/neutron_powder_PbSO4/PbSO4.cif'\n",
    "phases = Phases.from_cif_file(cif_fname)\n",
    "\n",
    "# load diffraction data\n",
    "meas_fname = '../datasets/neutron_powder_PbSO4/D1A@ILL.xye'\n",
    "meas_x, meas_y, meas_e = np.loadtxt(meas_fname, unpack=True)\n",
    "print('Data shape:', meas_x.shape, meas_y.shape)\n",
    "\n",
    "# setup interface to CrysPy and Job\n",
    "calculator = Calculator(interface_name='CrysPy')\n",
    "job = Job(phases=phases, parameters=CWParams(), interface=calculator)"
   ]
  },
  {
   "cell_type": "code",
   "execution_count": 6,
   "id": "f3ff2ece",
   "metadata": {},
   "outputs": [],
   "source": [
    "# setup \n",
    "job.parameters.wavelength = 1.912\n",
    "\n",
    "# add background\n",
    "bkg = PointBackground(linked_experiment='PbSO4')\n",
    "bkg.append(BackgroundPoint.from_pars(meas_x[0], 200))\n",
    "bkg.append(BackgroundPoint.from_pars(meas_x[-1], 250))\n",
    "job.set_background(bkg)"
   ]
  },
  {
   "cell_type": "markdown",
   "id": "f2033f34",
   "metadata": {},
   "source": [
    "Note here that no parameters are set to be refined. The MCMC simulations will be carried out using `emcee` package which will use the `log_posterior` function to sample the posterior.\n",
    "The `job` will only be used to calculate the diffraction pattern for the parameters that `emcee` will sample."
   ]
  },
  {
   "cell_type": "code",
   "execution_count": 7,
   "id": "3dfe66a1",
   "metadata": {},
   "outputs": [
    {
     "name": "stdout",
     "output_type": "stream",
     "text": [
      "Initial: RMSE 43.579, MSE-weighted 3.438\n"
     ]
    },
    {
     "data": {
      "image/png": "[encoded data removed]",
      "text/plain": [
       "<Figure size 792x324 with 1 Axes>"
      ]
     },
     "metadata": {
      "needs_background": "light"
     },
     "output_type": "display_data"
    }
   ],
   "source": [
    "# Sanity check if theta_0 is reasonable \n",
    "set_job_parameters(job, theta_0)\n",
    "y_initial = calculator.fit_func(meas_x)\n",
    "rmse_initial = compute_rmse(meas_y, y_initial)\n",
    "msew_initial = compute_mse_weighted(meas_y, y_initial)\n",
    "print(f'Initial: RMSE {rmse_initial:.3f}, MSE-weighted {msew_initial:.3f}')\n",
    "\n",
    "# plot\n",
    "fig = plt.figure(figsize=(11, 4.5))\n",
    "plt.plot(meas_x, meas_y, label='Exp')\n",
    "plt.plot(meas_x, y_initial, label='Initial')\n",
    "plt.legend()\n",
    "fig.tight_layout()"
   ]
  },
  {
   "cell_type": "markdown",
   "id": "e7027fea",
   "metadata": {},
   "source": [
    "## Run MCMC sampling\n",
    "\n",
    "Next, we define the hyper-parameters to be used for the MCMC sampling\n",
    "\n",
    "The MCMC is carried out by multiple independent \"walkers\".\n",
    "\n",
    "* `n_steps` sets how many steps/iterations each walker will carry out\n",
    "* `n_walkers` sets how many walkers to use\n",
    "* `n_parameters` is the total number of parameters being optimized\n",
    "* `n_every` how often to record store the MCMC trajectory\n"
   ]
  },
  {
   "cell_type": "code",
   "execution_count": 8,
   "id": "84b9a8a1",
   "metadata": {},
   "outputs": [],
   "source": [
    "# MCMC parameters\n",
    "n_walkers = 15             # number of MCMC walkers\n",
    "n_every = 1               # keep every x:th sample\n",
    "n_steps = 5000 // n_every  # steps per walker\n",
    "n_parameters = 11         # number of parameters"
   ]
  },
  {
   "cell_type": "markdown",
   "id": "0b252d08",
   "metadata": {},
   "source": [
    "Next, we generate the starting parameters for all walkers."
   ]
  },
  {
   "cell_type": "code",
   "execution_count": 9,
   "id": "a1de3b55",
   "metadata": {
    "scrolled": false
   },
   "outputs": [
    {
     "name": "stdout",
     "output_type": "stream",
     "text": [
      "theta start shape: (15, 11)\n",
      "Walker  0: log-posterior -10842.12453 | RMSE 43.579 | MSE-weighted 3.438\n",
      "Walker  1: log-posterior -11676.48810 | RMSE 66.453 | MSE-weighted 7.380\n",
      "Walker  2: log-posterior -11554.35167 | RMSE 59.526 | MSE-weighted 6.502\n",
      "Walker  3: log-posterior -15315.42290 | RMSE 77.296 | MSE-weighted 9.243\n",
      "Walker  4: log-posterior -12935.33593 | RMSE 72.482 | MSE-weighted 7.996\n",
      "Walker  5: log-posterior -12649.70196 | RMSE 71.052 | MSE-weighted 8.694\n",
      "Walker  6: log-posterior -12229.53300 | RMSE 79.497 | MSE-weighted 10.654\n",
      "Walker  7: log-posterior -11329.51863 | RMSE 57.199 | MSE-weighted 5.297\n",
      "Walker  8: log-posterior -13841.94357 | RMSE 86.030 | MSE-weighted 13.250\n",
      "Walker  9: log-posterior -11942.99504 | RMSE 71.125 | MSE-weighted 8.220\n",
      "Walker 10: log-posterior -13013.96373 | RMSE 57.783 | MSE-weighted 5.974\n",
      "Walker 11: log-posterior -14782.39384 | RMSE 71.719 | MSE-weighted 8.006\n",
      "Walker 12: log-posterior -11043.70290 | RMSE 46.783 | MSE-weighted 4.054\n",
      "Walker 13: log-posterior -11710.90754 | RMSE 61.968 | MSE-weighted 7.132\n",
      "Walker 14: log-posterior -11265.31900 | RMSE 52.701 | MSE-weighted 5.082\n"
     ]
    }
   ],
   "source": [
    "# generate starting points for walkers\n",
    "theta_start = [theta_0.copy()]\n",
    "for _ in range(n_walkers-1):\n",
    "    theta_start.append(generate_starting_theta())\n",
    "theta_start = np.array(theta_start).copy()\n",
    "print('theta start shape:', theta_start.shape)\n",
    "\n",
    "# sanity check starting points such that there is no horribly starting points with e.g. NaNs\n",
    "for it, theta in enumerate(theta_start):\n",
    "    set_job_parameters(job, theta)\n",
    "    y = calculator.fit_func(meas_x)\n",
    "    rmse = compute_rmse(meas_y, y)\n",
    "    msew = compute_mse_weighted(meas_y, y)\n",
    "    logp = log_posterior(theta)\n",
    "    \n",
    "    print(f'Walker {it:2}: log-posterior {logp:11.5f} | RMSE {rmse:.3f} | MSE-weighted {msew:.3f}')"
   ]
  },
  {
   "cell_type": "markdown",
   "id": "b58cf45b",
   "metadata": {},
   "source": [
    "In order make emcee run with fewer walkers than twice the number of parameters, we need to set `sampler._moves[0].live_dangerously = True `, but this is often unadvisable.\n",
    "\n",
    "Due the starting points for the walkers being quite similar we also may need to set `skip_initial_state_check=True` in order to avoid poor conditioned starting point error.\n"
   ]
  },
  {
   "cell_type": "code",
   "execution_count": null,
   "id": "b494cb4d",
   "metadata": {
    "scrolled": true
   },
   "outputs": [
    {
     "name": "stderr",
     "output_type": "stream",
     "text": [
      "  4%|███▎                                                                                 | 198/5000 [05:36<2:15:26,  1.69s/it]"
     ]
    }
   ],
   "source": [
    "# sample\n",
    "sampler = emcee.EnsembleSampler(n_walkers, n_parameters, log_posterior)\n",
    "sampler._moves[0].live_dangerously = True \n",
    "sampler.run_mcmc(theta_start, n_steps, progress=True, thin_by=n_every, skip_initial_state_check=True)\n",
    "print('Done!')"
   ]
  },
  {
   "cell_type": "code",
   "execution_count": null,
   "id": "f79d20eb",
   "metadata": {},
   "outputs": [],
   "source": [
    "samples = sampler.chain\n",
    "logp = sampler.lnprobability\n",
    "steps = n_every * np.arange(0, samples.shape[1])\n",
    "print('samples shape:', samples.shape)"
   ]
  },
  {
   "cell_type": "markdown",
   "id": "6fa1ffa1",
   "metadata": {},
   "source": [
    "First we'll plot the posterior of all walkers to check convergence."
   ]
  },
  {
   "cell_type": "code",
   "execution_count": null,
   "id": "d2418de7",
   "metadata": {},
   "outputs": [],
   "source": [
    "fig = plt.figure(figsize=(11, 5))\n",
    "for walker_ind in range(n_walkers):\n",
    "    plt.plot(steps, logp[walker_ind, :], label=f'Walker {walker_ind}')\n",
    "plt.legend()\n",
    "plt.ylabel('Log posterior')\n",
    "plt.xlabel('MCMC iteration')\n",
    "fig.tight_layout()"
   ]
  },
  {
   "cell_type": "markdown",
   "id": "b6eae890",
   "metadata": {},
   "source": [
    "Next, we'll plot the MCMC trajectory of the parameters for a few walkers"
   ]
  },
  {
   "cell_type": "code",
   "execution_count": null,
   "id": "ee1e036f",
   "metadata": {},
   "outputs": [],
   "source": [
    "walkers_to_plot = [0, 1, 2, 3, 4, 5, 6]\n",
    "\n",
    "fig, axes = plt.subplots(6, 2, figsize=(11, 14))\n",
    "for i in range(n_parameters):\n",
    "    ax = axes.flat[i]\n",
    "    name = parameter_names[i]\n",
    "    for walker_ind in walkers_to_plot:\n",
    "        ax.plot(steps, samples[walker_ind, :, i], label=f'Walker {walker_ind}')\n",
    "    ax.set_ylabel(name)\n",
    "    ax.set_xlabel('MCMC iteration')\n",
    "    if i == 0:\n",
    "        ax.legend(loc=1)\n",
    "    \n",
    "fig.tight_layout()\n",
    "plt.show()"
   ]
  },
  {
   "cell_type": "markdown",
   "id": "ddf27ee1",
   "metadata": {},
   "source": [
    "Now we extract the optimal choice of parameters and their standard-deviation.    \n",
    "We throw away the equilibration period of the MCMC simulations.\n",
    "\n"
   ]
  },
  {
   "cell_type": "code",
   "execution_count": null,
   "id": "9922d946",
   "metadata": {},
   "outputs": [],
   "source": [
    "n_throw_away = 2000 // n_every  # number of equilibration steps to throw away\n",
    "samples_flat = samples[:, n_throw_away:, :].reshape(-1, n_parameters)\n",
    "print('samples    shape: ', samples.shape)\n",
    "print('samples_flat shape:', samples_flat.shape)"
   ]
  },
  {
   "cell_type": "code",
   "execution_count": null,
   "id": "9df8f845",
   "metadata": {},
   "outputs": [],
   "source": [
    "# select best model\n",
    "ind = np.argmax(logp)\n",
    "hp_loc = np.unravel_index(ind, logp.shape)\n",
    "assert logp[hp_loc] == logp.max()\n",
    "theta_best = samples[hp_loc]\n",
    "\n",
    "# calculate spectra with best model\n",
    "set_job_parameters(job, theta_best)\n",
    "y = calculator.fit_func(meas_x)\n",
    "rmse_refined = compute_rmse(meas_y, y)\n",
    "msew_refined = compute_mse_weighted(meas_y, y)\n",
    "print(f'Best model: RMSE {rmse_refined:.3f}, MSE-weighted {msew_refined:.3f}, sigma {theta_best[0]:.3f}')\n",
    "\n",
    "# estimate errors of parameters\n",
    "stds = samples_flat.std(axis=0)\n",
    "\n",
    "# Save the data to be analyzed\n",
    "data = dict(names=parameter_names, steps=steps, samples=samples, logp=logp)\n",
    "parameter_dict = dict()\n",
    "for name, val, err in zip(parameter_names, theta_best, stds):\n",
    "    key = name\n",
    "    if name in parameter_dict:\n",
    "        key = key + '-1'\n",
    "    print(f'{key:15} {val:12.5f} , err {err:8.5f}')\n",
    "    parameter_dict[key] = val, err\n",
    "data['parameters'] = parameter_dict\n",
    "np.save(f'refinement_results/emcee_steps{n_steps}_walkers{n_walkers}.npy', data, allow_pickle=True)"
   ]
  },
  {
   "cell_type": "code",
   "execution_count": null,
   "id": "288f7bdd",
   "metadata": {},
   "outputs": [],
   "source": [
    "# plot refined diffraction pattern\n",
    "fig = plt.figure(figsize=(11, 4.5))\n",
    "plt.plot(meas_x, meas_y, label='Exp')\n",
    "plt.plot(meas_x, y, label='Simulated')\n",
    "plt.plot(meas_x, meas_y - y-500, label='Diff')\n",
    "plt.legend()\n",
    "fig.tight_layout()"
   ]
  },
  {
   "cell_type": "code",
   "execution_count": null,
   "id": "ea29fde8",
   "metadata": {},
   "outputs": [],
   "source": [
    "import corner\n",
    "\n",
    "# corner plot\n",
    "fig = plt.figure(figsize=(12, 12))\n",
    "corner.corner(samples_flat, labels=parameter_names)\n",
    "fig.tight_layout()"
   ]
  },
  {
   "cell_type": "code",
   "execution_count": null,
   "id": "876117cf",
   "metadata": {},
   "outputs": [],
   "source": []
  }
 ],
 "metadata": {
  "kernelspec": {
   "display_name": "Python 3 (ipykernel)",
   "language": "python",
   "name": "python3"
  },
  "language_info": {
   "codemirror_mode": {
    "name": "ipython",
    "version": 3
   },
   "file_extension": ".py",
   "mimetype": "text/x-python",
   "name": "python",
   "nbconvert_exporter": "python",
   "pygments_lexer": "ipython3",
   "version": "3.8.10"
  }
 },
 "nbformat": 4,
 "nbformat_minor": 5
}
