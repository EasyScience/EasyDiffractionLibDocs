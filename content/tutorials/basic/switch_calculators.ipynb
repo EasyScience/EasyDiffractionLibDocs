{
 "cells": [
  {
   "cell_type": "markdown",
   "id": "8a365a14",
   "metadata": {
    "pycharm": {
     "name": "#%% md\n"
    }
   },
   "source": [
    "# Switch calculation engine\n",
    "This notebook shows how we can switch calculation engine (external crystallographic library) and calculate diffraction profile using constant wavelength experiment type."
   ]
  },
  {
   "cell_type": "code",
   "execution_count": 1,
   "id": "9ecc4733",
   "metadata": {
    "pycharm": {
     "name": "#%%\n"
    }
   },
   "outputs": [
    {
     "name": "stdout",
     "output_type": "stream",
     "text": [
      "Warning: PdfFit2 is not installed\n"
     ]
    }
   ],
   "source": [
    "# EasyScience, technique-independent\n",
    "from easyCore import np\n",
    "from easyCore.Fitting.Fitting import Fitter\n",
    "\n",
    "# EasyScience, diffraction\n",
    "from easyDiffractionLib import Site, Phase, Phases\n",
    "from easyDiffractionLib.Jobs import Powder1DCW, InterfaceFactory\n",
    "\n",
    "# Vizualization\n",
    "import py3Dmol\n",
    "from bokeh.io import show, output_notebook\n",
    "from bokeh.plotting import figure\n",
    "\n",
    "# Misc\n",
    "import xarray as xr"
   ]
  },
  {
   "cell_type": "code",
   "execution_count": 2,
   "id": "d76d50fc",
   "metadata": {
    "pycharm": {
     "name": "#%%\n"
    }
   },
   "outputs": [
    {
     "data": {
      "text/html": [
       "<div class=\"bk-root\">\n",
       "        <a href=\"https://bokeh.org\" target=\"_blank\" class=\"bk-logo bk-logo-small bk-logo-notebook\"></a>\n",
       "        <span id=\"1002\">Loading BokehJS ...</span>\n",
       "    </div>\n"
      ]
     },
     "metadata": {},
     "output_type": "display_data"
    },
    {
     "data": {
      "application/javascript": [
       "(function(root) {\n",
       "  function now() {\n",
       "    return new Date();\n",
       "  }\n",
       "\n",
       "  const force = true;\n",
       "\n",
       "  if (typeof root._bokeh_onload_callbacks === \"undefined\" || force === true) {\n",
       "    root._bokeh_onload_callbacks = [];\n",
       "    root._bokeh_is_loading = undefined;\n",
       "  }\n",
       "\n",
       "const JS_MIME_TYPE = 'application/javascript';\n",
       "  const HTML_MIME_TYPE = 'text/html';\n",
       "  const EXEC_MIME_TYPE = 'application/vnd.bokehjs_exec.v0+json';\n",
       "  const CLASS_NAME = 'output_bokeh rendered_html';\n",
       "\n",
       "  /**\n",
       "   * Render data to the DOM node\n",
       "   */\n",
       "  function render(props, node) {\n",
       "    const script = document.createElement(\"script\");\n",
       "    node.appendChild(script);\n",
       "  }\n",
       "\n",
       "  /**\n",
       "   * Handle when an output is cleared or removed\n",
       "   */\n",
       "  function handleClearOutput(event, handle) {\n",
       "    const cell = handle.cell;\n",
       "\n",
       "    const id = cell.output_area._bokeh_element_id;\n",
       "    const server_id = cell.output_area._bokeh_server_id;\n",
       "    // Clean up Bokeh references\n",
       "    if (id != null && id in Bokeh.index) {\n",
       "      Bokeh.index[id].model.document.clear();\n",
       "      delete Bokeh.index[id];\n",
       "    }\n",
       "\n",
       "    if (server_id !== undefined) {\n",
       "      // Clean up Bokeh references\n",
       "      const cmd_clean = \"from bokeh.io.state import curstate; print(curstate().uuid_to_server['\" + server_id + \"'].get_sessions()[0].document.roots[0]._id)\";\n",
       "      cell.notebook.kernel.execute(cmd_clean, {\n",
       "        iopub: {\n",
       "          output: function(msg) {\n",
       "            const id = msg.content.text.trim();\n",
       "            if (id in Bokeh.index) {\n",
       "              Bokeh.index[id].model.document.clear();\n",
       "              delete Bokeh.index[id];\n",
       "            }\n",
       "          }\n",
       "        }\n",
       "      });\n",
       "      // Destroy server and session\n",
       "      const cmd_destroy = \"import bokeh.io.notebook as ion; ion.destroy_server('\" + server_id + \"')\";\n",
       "      cell.notebook.kernel.execute(cmd_destroy);\n",
       "    }\n",
       "  }\n",
       "\n",
       "  /**\n",
       "   * Handle when a new output is added\n",
       "   */\n",
       "  function handleAddOutput(event, handle) {\n",
       "    const output_area = handle.output_area;\n",
       "    const output = handle.output;\n",
       "\n",
       "    // limit handleAddOutput to display_data with EXEC_MIME_TYPE content only\n",
       "    if ((output.output_type != \"display_data\") || (!Object.prototype.hasOwnProperty.call(output.data, EXEC_MIME_TYPE))) {\n",
       "      return\n",
       "    }\n",
       "\n",
       "    const toinsert = output_area.element.find(\".\" + CLASS_NAME.split(' ')[0]);\n",
       "\n",
       "    if (output.metadata[EXEC_MIME_TYPE][\"id\"] !== undefined) {\n",
       "      toinsert[toinsert.length - 1].firstChild.textContent = output.data[JS_MIME_TYPE];\n",
       "      // store reference to embed id on output_area\n",
       "      output_area._bokeh_element_id = output.metadata[EXEC_MIME_TYPE][\"id\"];\n",
       "    }\n",
       "    if (output.metadata[EXEC_MIME_TYPE][\"server_id\"] !== undefined) {\n",
       "      const bk_div = document.createElement(\"div\");\n",
       "      bk_div.innerHTML = output.data[HTML_MIME_TYPE];\n",
       "      const script_attrs = bk_div.children[0].attributes;\n",
       "      for (let i = 0; i < script_attrs.length; i++) {\n",
       "        toinsert[toinsert.length - 1].firstChild.setAttribute(script_attrs[i].name, script_attrs[i].value);\n",
       "        toinsert[toinsert.length - 1].firstChild.textContent = bk_div.children[0].textContent\n",
       "      }\n",
       "      // store reference to server id on output_area\n",
       "      output_area._bokeh_server_id = output.metadata[EXEC_MIME_TYPE][\"server_id\"];\n",
       "    }\n",
       "  }\n",
       "\n",
       "  function register_renderer(events, OutputArea) {\n",
       "\n",
       "    function append_mime(data, metadata, element) {\n",
       "      // create a DOM node to render to\n",
       "      const toinsert = this.create_output_subarea(\n",
       "        metadata,\n",
       "        CLASS_NAME,\n",
       "        EXEC_MIME_TYPE\n",
       "      );\n",
       "      this.keyboard_manager.register_events(toinsert);\n",
       "      // Render to node\n",
       "      const props = {data: data, metadata: metadata[EXEC_MIME_TYPE]};\n",
       "      render(props, toinsert[toinsert.length - 1]);\n",
       "      element.append(toinsert);\n",
       "      return toinsert\n",
       "    }\n",
       "\n",
       "    /* Handle when an output is cleared or removed */\n",
       "    events.on('clear_output.CodeCell', handleClearOutput);\n",
       "    events.on('delete.Cell', handleClearOutput);\n",
       "\n",
       "    /* Handle when a new output is added */\n",
       "    events.on('output_added.OutputArea', handleAddOutput);\n",
       "\n",
       "    /**\n",
       "     * Register the mime type and append_mime function with output_area\n",
       "     */\n",
       "    OutputArea.prototype.register_mime_type(EXEC_MIME_TYPE, append_mime, {\n",
       "      /* Is output safe? */\n",
       "      safe: true,\n",
       "      /* Index of renderer in `output_area.display_order` */\n",
       "      index: 0\n",
       "    });\n",
       "  }\n",
       "\n",
       "  // register the mime type if in Jupyter Notebook environment and previously unregistered\n",
       "  if (root.Jupyter !== undefined) {\n",
       "    const events = require('base/js/events');\n",
       "    const OutputArea = require('notebook/js/outputarea').OutputArea;\n",
       "\n",
       "    if (OutputArea.prototype.mime_types().indexOf(EXEC_MIME_TYPE) == -1) {\n",
       "      register_renderer(events, OutputArea);\n",
       "    }\n",
       "  }\n",
       "  if (typeof (root._bokeh_timeout) === \"undefined\" || force === true) {\n",
       "    root._bokeh_timeout = Date.now() + 5000;\n",
       "    root._bokeh_failed_load = false;\n",
       "  }\n",
       "\n",
       "  const NB_LOAD_WARNING = {'data': {'text/html':\n",
       "     \"<div style='background-color: #fdd'>\\n\"+\n",
       "     \"<p>\\n\"+\n",
       "     \"BokehJS does not appear to have successfully loaded. If loading BokehJS from CDN, this \\n\"+\n",
       "     \"may be due to a slow or bad network connection. Possible fixes:\\n\"+\n",
       "     \"</p>\\n\"+\n",
       "     \"<ul>\\n\"+\n",
       "     \"<li>re-rerun `output_notebook()` to attempt to load from CDN again, or</li>\\n\"+\n",
       "     \"<li>use INLINE resources instead, as so:</li>\\n\"+\n",
       "     \"</ul>\\n\"+\n",
       "     \"<code>\\n\"+\n",
       "     \"from bokeh.resources import INLINE\\n\"+\n",
       "     \"output_notebook(resources=INLINE)\\n\"+\n",
       "     \"</code>\\n\"+\n",
       "     \"</div>\"}};\n",
       "\n",
       "  function display_loaded() {\n",
       "    const el = document.getElementById(\"1002\");\n",
       "    if (el != null) {\n",
       "      el.textContent = \"BokehJS is loading...\";\n",
       "    }\n",
       "    if (root.Bokeh !== undefined) {\n",
       "      if (el != null) {\n",
       "        el.textContent = \"BokehJS \" + root.Bokeh.version + \" successfully loaded.\";\n",
       "      }\n",
       "    } else if (Date.now() < root._bokeh_timeout) {\n",
       "      setTimeout(display_loaded, 100)\n",
       "    }\n",
       "  }\n",
       "\n",
       "  function run_callbacks() {\n",
       "    try {\n",
       "      root._bokeh_onload_callbacks.forEach(function(callback) {\n",
       "        if (callback != null)\n",
       "          callback();\n",
       "      });\n",
       "    } finally {\n",
       "      delete root._bokeh_onload_callbacks\n",
       "    }\n",
       "    console.debug(\"Bokeh: all callbacks have finished\");\n",
       "  }\n",
       "\n",
       "  function load_libs(css_urls, js_urls, callback) {\n",
       "    if (css_urls == null) css_urls = [];\n",
       "    if (js_urls == null) js_urls = [];\n",
       "\n",
       "    root._bokeh_onload_callbacks.push(callback);\n",
       "    if (root._bokeh_is_loading > 0) {\n",
       "      console.debug(\"Bokeh: BokehJS is being loaded, scheduling callback at\", now());\n",
       "      return null;\n",
       "    }\n",
       "    if (js_urls == null || js_urls.length === 0) {\n",
       "      run_callbacks();\n",
       "      return null;\n",
       "    }\n",
       "    console.debug(\"Bokeh: BokehJS not loaded, scheduling load and callback at\", now());\n",
       "    root._bokeh_is_loading = css_urls.length + js_urls.length;\n",
       "\n",
       "    function on_load() {\n",
       "      root._bokeh_is_loading--;\n",
       "      if (root._bokeh_is_loading === 0) {\n",
       "        console.debug(\"Bokeh: all BokehJS libraries/stylesheets loaded\");\n",
       "        run_callbacks()\n",
       "      }\n",
       "    }\n",
       "\n",
       "    function on_error(url) {\n",
       "      console.error(\"failed to load \" + url);\n",
       "    }\n",
       "\n",
       "    for (let i = 0; i < css_urls.length; i++) {\n",
       "      const url = css_urls[i];\n",
       "      const element = document.createElement(\"link\");\n",
       "      element.onload = on_load;\n",
       "      element.onerror = on_error.bind(null, url);\n",
       "      element.rel = \"stylesheet\";\n",
       "      element.type = \"text/css\";\n",
       "      element.href = url;\n",
       "      console.debug(\"Bokeh: injecting link tag for BokehJS stylesheet: \", url);\n",
       "      document.body.appendChild(element);\n",
       "    }\n",
       "\n",
       "    for (let i = 0; i < js_urls.length; i++) {\n",
       "      const url = js_urls[i];\n",
       "      const element = document.createElement('script');\n",
       "      element.onload = on_load;\n",
       "      element.onerror = on_error.bind(null, url);\n",
       "      element.async = false;\n",
       "      element.src = url;\n",
       "      console.debug(\"Bokeh: injecting script tag for BokehJS library: \", url);\n",
       "      document.head.appendChild(element);\n",
       "    }\n",
       "  };\n",
       "\n",
       "  function inject_raw_css(css) {\n",
       "    const element = document.createElement(\"style\");\n",
       "    element.appendChild(document.createTextNode(css));\n",
       "    document.body.appendChild(element);\n",
       "  }\n",
       "\n",
       "  const js_urls = [\"https://cdn.bokeh.org/bokeh/release/bokeh-2.4.3.min.js\", \"https://cdn.bokeh.org/bokeh/release/bokeh-gl-2.4.3.min.js\", \"https://cdn.bokeh.org/bokeh/release/bokeh-widgets-2.4.3.min.js\", \"https://cdn.bokeh.org/bokeh/release/bokeh-tables-2.4.3.min.js\", \"https://cdn.bokeh.org/bokeh/release/bokeh-mathjax-2.4.3.min.js\"];\n",
       "  const css_urls = [];\n",
       "\n",
       "  const inline_js = [    function(Bokeh) {\n",
       "      Bokeh.set_log_level(\"info\");\n",
       "    },\n",
       "function(Bokeh) {\n",
       "    }\n",
       "  ];\n",
       "\n",
       "  function run_inline_js() {\n",
       "    if (root.Bokeh !== undefined || force === true) {\n",
       "          for (let i = 0; i < inline_js.length; i++) {\n",
       "      inline_js[i].call(root, root.Bokeh);\n",
       "    }\n",
       "if (force === true) {\n",
       "        display_loaded();\n",
       "      }} else if (Date.now() < root._bokeh_timeout) {\n",
       "      setTimeout(run_inline_js, 100);\n",
       "    } else if (!root._bokeh_failed_load) {\n",
       "      console.log(\"Bokeh: BokehJS failed to load within specified timeout.\");\n",
       "      root._bokeh_failed_load = true;\n",
       "    } else if (force !== true) {\n",
       "      const cell = $(document.getElementById(\"1002\")).parents('.cell').data().cell;\n",
       "      cell.output_area.append_execute_result(NB_LOAD_WARNING)\n",
       "    }\n",
       "  }\n",
       "\n",
       "  if (root._bokeh_is_loading === 0) {\n",
       "    console.debug(\"Bokeh: BokehJS loaded, going straight to plotting\");\n",
       "    run_inline_js();\n",
       "  } else {\n",
       "    load_libs(css_urls, js_urls, function() {\n",
       "      console.debug(\"Bokeh: BokehJS plotting callback run at\", now());\n",
       "      run_inline_js();\n",
       "    });\n",
       "  }\n",
       "}(window));"
      ],
      "application/vnd.bokehjs_load.v0+json": "(function(root) {\n  function now() {\n    return new Date();\n  }\n\n  const force = true;\n\n  if (typeof root._bokeh_onload_callbacks === \"undefined\" || force === true) {\n    root._bokeh_onload_callbacks = [];\n    root._bokeh_is_loading = undefined;\n  }\n\n\n  if (typeof (root._bokeh_timeout) === \"undefined\" || force === true) {\n    root._bokeh_timeout = Date.now() + 5000;\n    root._bokeh_failed_load = false;\n  }\n\n  const NB_LOAD_WARNING = {'data': {'text/html':\n     \"<div style='background-color: #fdd'>\\n\"+\n     \"<p>\\n\"+\n     \"BokehJS does not appear to have successfully loaded. If loading BokehJS from CDN, this \\n\"+\n     \"may be due to a slow or bad network connection. Possible fixes:\\n\"+\n     \"</p>\\n\"+\n     \"<ul>\\n\"+\n     \"<li>re-rerun `output_notebook()` to attempt to load from CDN again, or</li>\\n\"+\n     \"<li>use INLINE resources instead, as so:</li>\\n\"+\n     \"</ul>\\n\"+\n     \"<code>\\n\"+\n     \"from bokeh.resources import INLINE\\n\"+\n     \"output_notebook(resources=INLINE)\\n\"+\n     \"</code>\\n\"+\n     \"</div>\"}};\n\n  function display_loaded() {\n    const el = document.getElementById(\"1002\");\n    if (el != null) {\n      el.textContent = \"BokehJS is loading...\";\n    }\n    if (root.Bokeh !== undefined) {\n      if (el != null) {\n        el.textContent = \"BokehJS \" + root.Bokeh.version + \" successfully loaded.\";\n      }\n    } else if (Date.now() < root._bokeh_timeout) {\n      setTimeout(display_loaded, 100)\n    }\n  }\n\n  function run_callbacks() {\n    try {\n      root._bokeh_onload_callbacks.forEach(function(callback) {\n        if (callback != null)\n          callback();\n      });\n    } finally {\n      delete root._bokeh_onload_callbacks\n    }\n    console.debug(\"Bokeh: all callbacks have finished\");\n  }\n\n  function load_libs(css_urls, js_urls, callback) {\n    if (css_urls == null) css_urls = [];\n    if (js_urls == null) js_urls = [];\n\n    root._bokeh_onload_callbacks.push(callback);\n    if (root._bokeh_is_loading > 0) {\n      console.debug(\"Bokeh: BokehJS is being loaded, scheduling callback at\", now());\n      return null;\n    }\n    if (js_urls == null || js_urls.length === 0) {\n      run_callbacks();\n      return null;\n    }\n    console.debug(\"Bokeh: BokehJS not loaded, scheduling load and callback at\", now());\n    root._bokeh_is_loading = css_urls.length + js_urls.length;\n\n    function on_load() {\n      root._bokeh_is_loading--;\n      if (root._bokeh_is_loading === 0) {\n        console.debug(\"Bokeh: all BokehJS libraries/stylesheets loaded\");\n        run_callbacks()\n      }\n    }\n\n    function on_error(url) {\n      console.error(\"failed to load \" + url);\n    }\n\n    for (let i = 0; i < css_urls.length; i++) {\n      const url = css_urls[i];\n      const element = document.createElement(\"link\");\n      element.onload = on_load;\n      element.onerror = on_error.bind(null, url);\n      element.rel = \"stylesheet\";\n      element.type = \"text/css\";\n      element.href = url;\n      console.debug(\"Bokeh: injecting link tag for BokehJS stylesheet: \", url);\n      document.body.appendChild(element);\n    }\n\n    for (let i = 0; i < js_urls.length; i++) {\n      const url = js_urls[i];\n      const element = document.createElement('script');\n      element.onload = on_load;\n      element.onerror = on_error.bind(null, url);\n      element.async = false;\n      element.src = url;\n      console.debug(\"Bokeh: injecting script tag for BokehJS library: \", url);\n      document.head.appendChild(element);\n    }\n  };\n\n  function inject_raw_css(css) {\n    const element = document.createElement(\"style\");\n    element.appendChild(document.createTextNode(css));\n    document.body.appendChild(element);\n  }\n\n  const js_urls = [\"https://cdn.bokeh.org/bokeh/release/bokeh-2.4.3.min.js\", \"https://cdn.bokeh.org/bokeh/release/bokeh-gl-2.4.3.min.js\", \"https://cdn.bokeh.org/bokeh/release/bokeh-widgets-2.4.3.min.js\", \"https://cdn.bokeh.org/bokeh/release/bokeh-tables-2.4.3.min.js\", \"https://cdn.bokeh.org/bokeh/release/bokeh-mathjax-2.4.3.min.js\"];\n  const css_urls = [];\n\n  const inline_js = [    function(Bokeh) {\n      Bokeh.set_log_level(\"info\");\n    },\nfunction(Bokeh) {\n    }\n  ];\n\n  function run_inline_js() {\n    if (root.Bokeh !== undefined || force === true) {\n          for (let i = 0; i < inline_js.length; i++) {\n      inline_js[i].call(root, root.Bokeh);\n    }\nif (force === true) {\n        display_loaded();\n      }} else if (Date.now() < root._bokeh_timeout) {\n      setTimeout(run_inline_js, 100);\n    } else if (!root._bokeh_failed_load) {\n      console.log(\"Bokeh: BokehJS failed to load within specified timeout.\");\n      root._bokeh_failed_load = true;\n    } else if (force !== true) {\n      const cell = $(document.getElementById(\"1002\")).parents('.cell').data().cell;\n      cell.output_area.append_execute_result(NB_LOAD_WARNING)\n    }\n  }\n\n  if (root._bokeh_is_loading === 0) {\n    console.debug(\"Bokeh: BokehJS loaded, going straight to plotting\");\n    run_inline_js();\n  } else {\n    load_libs(css_urls, js_urls, function() {\n      console.debug(\"Bokeh: BokehJS plotting callback run at\", now());\n      run_inline_js();\n    });\n  }\n}(window));"
     },
     "metadata": {},
     "output_type": "display_data"
    }
   ],
   "source": [
    "output_notebook()\n",
    "FIGURE_WIDTH = 700\n",
    "FIGURE_HEIGHT = 300"
   ]
  },
  {
   "cell_type": "markdown",
   "id": "283767f9",
   "metadata": {
    "pycharm": {
     "name": "#%% md\n"
    }
   },
   "source": [
    "## Sample"
   ]
  },
  {
   "cell_type": "markdown",
   "id": "19a39b25",
   "metadata": {
    "pycharm": {
     "name": "#%% md\n"
    }
   },
   "source": [
    "### Create an atom using `Site` interface"
   ]
  },
  {
   "cell_type": "code",
   "execution_count": 3,
   "id": "41020330",
   "metadata": {
    "pycharm": {
     "name": "#%%\n"
    }
   },
   "outputs": [],
   "source": [
    "atom = Site(label=\"Cl\",\n",
    "           specie=\"Cl\",\n",
    "           fract_x=0.0,\n",
    "           fract_y=0.0,\n",
    "           fract_z=0.0)"
   ]
  },
  {
   "cell_type": "markdown",
   "id": "910aed87",
   "metadata": {
    "pycharm": {
     "name": "#%% md\n"
    }
   },
   "source": [
    "### Create a phase, set space group, add atom"
   ]
  },
  {
   "cell_type": "code",
   "execution_count": 4,
   "id": "1e2f3193",
   "metadata": {
    "pycharm": {
     "name": "#%%\n"
    }
   },
   "outputs": [],
   "source": [
    "phase = Phase(name=\"salt\")\n",
    "\n",
    "phase.spacegroup.space_group_HM_name = \"F m -3 m\"\n",
    "\n",
    "phase.add_atom(atom)"
   ]
  },
  {
   "cell_type": "markdown",
   "id": "d4532d8b",
   "metadata": {
    "pycharm": {
     "name": "#%% md\n"
    }
   },
   "source": [
    "### Add another atom (using `Phase` interface)"
   ]
  },
  {
   "cell_type": "code",
   "execution_count": 5,
   "id": "4231d16a",
   "metadata": {
    "pycharm": {
     "name": "#%%\n"
    }
   },
   "outputs": [],
   "source": [
    "phase.add_atom('Na', 'Na', 0.5, 0.5, 0.5)"
   ]
  },
  {
   "cell_type": "markdown",
   "id": "81ace320",
   "metadata": {
    "pycharm": {
     "name": "#%% md\n"
    }
   },
   "source": [
    "### Visualise the structure"
   ]
  },
  {
   "cell_type": "code",
   "execution_count": 6,
   "id": "e68ddbea",
   "metadata": {
    "pycharm": {
     "name": "#%%\n"
    }
   },
   "outputs": [
    {
     "data": {
      "application/3dmoljs_load.v0": "<div id=\"3dmolviewer_167870250727682\"  style=\"position: relative; width: 640px; height: 480px\">\n        <p id=\"3dmolwarning_167870250727682\" style=\"background-color:#ffcccc;color:black\">You appear to be running in JupyterLab (or JavaScript failed to load for some other reason).  You need to install the 3dmol extension: <br>\n        <tt>jupyter labextension install jupyterlab_3dmol</tt></p>\n        </div>\n<script>\n\nvar loadScriptAsync = function(uri){\n  return new Promise((resolve, reject) => {\n    var tag = document.createElement('script');\n    tag.src = uri;\n    tag.async = true;\n    tag.onload = () => {\n      resolve();\n    };\n  var firstScriptTag = document.getElementsByTagName('script')[0];\n  firstScriptTag.parentNode.insertBefore(tag, firstScriptTag);\n});\n};\n\nif(typeof $3Dmolpromise === 'undefined') {\n$3Dmolpromise = null;\n  $3Dmolpromise = loadScriptAsync('https://cdn.jsdelivr.net/npm/3dmol@latest/build/3Dmol-min.min.js');\n}\n\nvar viewer_167870250727682 = null;\nvar warn = document.getElementById(\"3dmolwarning_167870250727682\");\nif(warn) {\n    warn.parentNode.removeChild(warn);\n}\n$3Dmolpromise.then(function() {\nviewer_167870250727682 = $3Dmol.createViewer($(\"#3dmolviewer_167870250727682\"),{backgroundColor:\"white\"});\nviewer_167870250727682.zoomTo();\n\tviewer_167870250727682.addModel(\"data_salt\\n_cell_length_a 3.00000000\\n_cell_length_b 3.00000000\\n_cell_length_c 3.00000000\\n_cell_angle_alpha 90.00000000\\n_cell_angle_beta 90.00000000\\n_cell_angle_gamma 90.00000000\\n_space_group_name_H-M_ref 'F m -3 m'\\n\\n\\nloop_\\n_atom_site_label\\n_atom_site_type_symbol\\n_atom_site_fract_x\\n_atom_site_fract_y\\n_atom_site_fract_z\\n_atom_site_occupancy\\nCl Cl 0.00000000 0.00000000 0.00000000 1.00000000\\nNa Na 0.5 0.5 0.00000000 0.5\\n\",\"cif\",{\"doAssembly\": true, \"duplicateAssemblyAtoms\": true, \"normalizeAssembly\": true});\n\tviewer_167870250727682.setStyle({\"sphere\": {\"colorscheme\": \"Jmol\", \"scale\": 0.2}, \"stick\": {\"colorscheme\": \"Jmol\", \"radius\": 0.1}});\n\tviewer_167870250727682.addUnitCell();\n\tviewer_167870250727682.replicateUnitCell(2,2,2);\n\tviewer_167870250727682.zoomTo();\nviewer_167870250727682.render();\n});\n</script>",
      "text/html": [
       "<div id=\"3dmolviewer_167870250727682\"  style=\"position: relative; width: 640px; height: 480px\">\n",
       "        <p id=\"3dmolwarning_167870250727682\" style=\"background-color:#ffcccc;color:black\">You appear to be running in JupyterLab (or JavaScript failed to load for some other reason).  You need to install the 3dmol extension: <br>\n",
       "        <tt>jupyter labextension install jupyterlab_3dmol</tt></p>\n",
       "        </div>\n",
       "<script>\n",
       "\n",
       "var loadScriptAsync = function(uri){\n",
       "  return new Promise((resolve, reject) => {\n",
       "    var tag = document.createElement('script');\n",
       "    tag.src = uri;\n",
       "    tag.async = true;\n",
       "    tag.onload = () => {\n",
       "      resolve();\n",
       "    };\n",
       "  var firstScriptTag = document.getElementsByTagName('script')[0];\n",
       "  firstScriptTag.parentNode.insertBefore(tag, firstScriptTag);\n",
       "});\n",
       "};\n",
       "\n",
       "if(typeof $3Dmolpromise === 'undefined') {\n",
       "$3Dmolpromise = null;\n",
       "  $3Dmolpromise = loadScriptAsync('https://cdn.jsdelivr.net/npm/3dmol@latest/build/3Dmol-min.min.js');\n",
       "}\n",
       "\n",
       "var viewer_167870250727682 = null;\n",
       "var warn = document.getElementById(\"3dmolwarning_167870250727682\");\n",
       "if(warn) {\n",
       "    warn.parentNode.removeChild(warn);\n",
       "}\n",
       "$3Dmolpromise.then(function() {\n",
       "viewer_167870250727682 = $3Dmol.createViewer($(\"#3dmolviewer_167870250727682\"),{backgroundColor:\"white\"});\n",
       "viewer_167870250727682.zoomTo();\n",
       "\tviewer_167870250727682.addModel(\"data_salt\\n_cell_length_a 3.00000000\\n_cell_length_b 3.00000000\\n_cell_length_c 3.00000000\\n_cell_angle_alpha 90.00000000\\n_cell_angle_beta 90.00000000\\n_cell_angle_gamma 90.00000000\\n_space_group_name_H-M_ref 'F m -3 m'\\n\\n\\nloop_\\n_atom_site_label\\n_atom_site_type_symbol\\n_atom_site_fract_x\\n_atom_site_fract_y\\n_atom_site_fract_z\\n_atom_site_occupancy\\nCl Cl 0.00000000 0.00000000 0.00000000 1.00000000\\nNa Na 0.5 0.5 0.00000000 0.5\\n\",\"cif\",{\"doAssembly\": true, \"duplicateAssemblyAtoms\": true, \"normalizeAssembly\": true});\n",
       "\tviewer_167870250727682.setStyle({\"sphere\": {\"colorscheme\": \"Jmol\", \"scale\": 0.2}, \"stick\": {\"colorscheme\": \"Jmol\", \"radius\": 0.1}});\n",
       "\tviewer_167870250727682.addUnitCell();\n",
       "\tviewer_167870250727682.replicateUnitCell(2,2,2);\n",
       "\tviewer_167870250727682.zoomTo();\n",
       "viewer_167870250727682.render();\n",
       "});\n",
       "</script>"
      ]
     },
     "metadata": {},
     "output_type": "display_data"
    },
    {
     "data": {
      "text/plain": [
       "<py3Dmol.view at 0x7fe9a88a45b0>"
      ]
     },
     "execution_count": 6,
     "metadata": {},
     "output_type": "execute_result"
    }
   ],
   "source": [
    "viewer = py3Dmol.view()\n",
    "viewer.addModel(phase.cif,'cif',{'doAssembly':True,'duplicateAssemblyAtoms':True,'normalizeAssembly':True})\n",
    "viewer.setStyle({'sphere':{'colorscheme':'Jmol','scale':.2},'stick':{'colorscheme':'Jmol', 'radius': 0.1}})\n",
    "viewer.addUnitCell()\n",
    "viewer.replicateUnitCell(2,2,2)\n",
    "viewer.zoomTo()"
   ]
  },
  {
   "cell_type": "markdown",
   "id": "ebe0e0ee",
   "metadata": {
    "pycharm": {
     "name": "#%% md\n"
    }
   },
   "source": [
    "### Create Phases object"
   ]
  },
  {
   "cell_type": "code",
   "execution_count": 7,
   "id": "29071aa2",
   "metadata": {
    "pycharm": {
     "name": "#%%\n"
    }
   },
   "outputs": [],
   "source": [
    "phases = Phases()\n",
    "phases.append(phase)"
   ]
  },
  {
   "cell_type": "markdown",
   "id": "07db27b5",
   "metadata": {
    "pycharm": {
     "name": "#%% md\n"
    }
   },
   "source": [
    "## Experiment"
   ]
  },
  {
   "cell_type": "markdown",
   "id": "dd0fce50",
   "metadata": {},
   "source": [
    "### Create `Dataset`"
   ]
  },
  {
   "cell_type": "code",
   "execution_count": 8,
   "id": "df64aa80",
   "metadata": {},
   "outputs": [],
   "source": [
    "data = xr.Dataset()\n",
    "x_data = np.linspace(20, 170, 500)"
   ]
  },
  {
   "cell_type": "markdown",
   "id": "2d961469",
   "metadata": {
    "pycharm": {
     "name": "#%% md\n"
    }
   },
   "source": [
    "### Create `Job`"
   ]
  },
  {
   "cell_type": "code",
   "execution_count": 9,
   "id": "3b264260",
   "metadata": {},
   "outputs": [],
   "source": [
    "job = Powder1DCW('NaCl', data, phases=phases)\n"
   ]
  },
  {
   "cell_type": "code",
   "execution_count": 10,
   "id": "784fb8e5",
   "metadata": {
    "pycharm": {
     "name": "#%%\n"
    }
   },
   "outputs": [
    {
     "name": "stdout",
     "output_type": "stream",
     "text": [
      "Current calculator engine: CrysPy\n"
     ]
    }
   ],
   "source": [
    "print(f\"Current calculator engine: {job.interface.current_interface_name}\")"
   ]
  },
  {
   "cell_type": "code",
   "execution_count": 11,
   "id": "210bc79d",
   "metadata": {
    "pycharm": {
     "name": "#%%\n"
    }
   },
   "outputs": [
    {
     "name": "stdout",
     "output_type": "stream",
     "text": [
      "Available calculator engines: ['CrysPy', 'CrysFML']\n",
      "Available calculators for CW: ['CrysPy', 'CrysFML']\n"
     ]
    }
   ],
   "source": [
    "print(f\"Available calculator engines: {job.interface.available_interfaces}\")\n",
    "print(f\"Available calculators for CW: {job.interface.interface_compatability('Npowder1DCWunp')}\")"
   ]
  },
  {
   "cell_type": "markdown",
   "id": "e93c42b9",
   "metadata": {
    "pycharm": {
     "name": "#%% md\n"
    }
   },
   "source": [
    "###  Modify instrumental parameters"
   ]
  },
  {
   "cell_type": "code",
   "execution_count": 12,
   "id": "83e3845f",
   "metadata": {
    "pycharm": {
     "name": "#%%\n"
    }
   },
   "outputs": [],
   "source": [
    "job.parameters.resolution_u = 0.1447\n",
    "job.parameters.resolution_v = -0.4252\n",
    "job.parameters.resolution_w = 0.3864\n",
    "job.parameters.resolution_x = 0.0\n",
    "job.parameters.resolution_y = 0.0"
   ]
  },
  {
   "cell_type": "markdown",
   "id": "370f0baa",
   "metadata": {
    "pycharm": {
     "name": "#%% md\n"
    }
   },
   "source": [
    "###  Modify pattern parameters"
   ]
  },
  {
   "cell_type": "code",
   "execution_count": 13,
   "id": "70fa1571",
   "metadata": {
    "pycharm": {
     "name": "#%%\n"
    }
   },
   "outputs": [],
   "source": [
    "job.pattern.zero_shift = 0.0\n",
    "job.pattern.scale = 100.0"
   ]
  },
  {
   "cell_type": "markdown",
   "id": "eb234f76",
   "metadata": {
    "pycharm": {
     "name": "#%% md\n"
    }
   },
   "source": [
    "## Simulation"
   ]
  },
  {
   "cell_type": "markdown",
   "id": "00e24eab",
   "metadata": {
    "pycharm": {
     "name": "#%% md\n"
    }
   },
   "source": [
    "### Calculate the profile using the default calculation engine"
   ]
  },
  {
   "cell_type": "code",
   "execution_count": 14,
   "id": "91df1925",
   "metadata": {
    "pycharm": {
     "name": "#%%\n"
    }
   },
   "outputs": [],
   "source": [
    "_ = job.create_simulation(x_data)\n",
    "y_data_cryspy = np.array(data['sim_NaCl'])"
   ]
  },
  {
   "cell_type": "code",
   "execution_count": 15,
   "id": "05ab7ef9",
   "metadata": {},
   "outputs": [
    {
     "name": "stdout",
     "output_type": "stream",
     "text": [
      "some Ycalc from CrysPy:\n",
      " [   0.            0.            0.            0.            0.\n",
      "    0.          150.30464692 2156.99342898   48.2711642     0.\n",
      "    0.            0.            0.            0.            0.        ]\n"
     ]
    }
   ],
   "source": [
    "print(\"some Ycalc from CrysPy:\\n\", y_data_cryspy[315:330])"
   ]
  },
  {
   "cell_type": "code",
   "execution_count": 16,
   "id": "f556cc94",
   "metadata": {
    "pycharm": {
     "name": "#%%\n"
    }
   },
   "outputs": [
    {
     "data": {
      "text/html": [
       "\n",
       "  <div class=\"bk-root\" id=\"1e91b97b-c558-4b49-b3aa-626ff6af92db\" data-root-id=\"1003\"></div>\n"
      ]
     },
     "metadata": {},
     "output_type": "display_data"
    },
    {
     "data": {
      "application/javascript": [
       "(function(root) {\n",
       "  function embed_document(root) {\n",
       "  const docs_json = {\"abcb1887-b6ee-4c4b-9d7a-6ab71ac5a977\":{\"defs\":[],\"roots\":{\"references\":[{\"attributes\":{\"below\":[{\"id\":\"1012\"}],\"center\":[{\"id\":\"1015\"},{\"id\":\"1019\"},{\"id\":\"1051\"}],\"height\":300,\"left\":[{\"id\":\"1016\"}],\"renderers\":[{\"id\":\"1038\"}],\"title\":{\"id\":\"1040\"},\"toolbar\":{\"id\":\"1027\"},\"width\":700,\"x_range\":{\"id\":\"1004\"},\"x_scale\":{\"id\":\"1008\"},\"y_range\":{\"id\":\"1006\"},\"y_scale\":{\"id\":\"1010\"}},\"id\":\"1003\",\"subtype\":\"Figure\",\"type\":\"Plot\"},{\"attributes\":{},\"id\":\"1004\",\"type\":\"DataRange1d\"},{\"attributes\":{},\"id\":\"1006\",\"type\":\"DataRange1d\"},{\"attributes\":{},\"id\":\"1024\",\"type\":\"ResetTool\"},{\"attributes\":{\"label\":{\"value\":\"CW Simulation\"},\"renderers\":[{\"id\":\"1038\"}]},\"id\":\"1052\",\"type\":\"LegendItem\"},{\"attributes\":{},\"id\":\"1023\",\"type\":\"SaveTool\"},{\"attributes\":{\"coordinates\":null,\"group\":null},\"id\":\"1040\",\"type\":\"Title\"},{\"attributes\":{\"overlay\":{\"id\":\"1026\"}},\"id\":\"1022\",\"type\":\"BoxZoomTool\"},{\"attributes\":{\"data\":{\"x\":{\"__ndarray__\":\"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\",\"dtype\":\"float64\",\"order\":\"little\",\"shape\":[500]},\"y\":{\"__ndarray__\":\"AAAAAAAAAAAAAAAAAAAAAAAAAAAAAAAAAAAAAAAAAAAAAAAAAAAAAAAAAAAAAAAAAAAAAAAAAAAAAAAAAAAAAAAAAAAAAAAAAAAAAAAAAAAAAAAAAAAAAAAAAAAAAAAAAAAAAAAAAAAAAAAAAAAAAAAAAAAAAAAAAAAAAAAAAAAAAAAAAAAAAAAAAAAAAAAAAAAAAAAAAAAAAAAAAAAAAAAAAAAAAAAAAAAAAAAAAAAAAAAAAAAAAAAAAAAAAAAAAAAAAAAAAAAAAAAAAAAAAAAAAAAAAAAAAAAAAAAAAAAAAAAAAAAAAAAAAAAAAAAAAAAAAAAAAAAAAAAAAAAAAAAAAAAAAAAAAAAAAAAAAAAAAAAAAAAAAAAAAAAAAAAAAAAAAAAAAAAAAAAAAAAAAAAAAAAAAAAAAAAAAAAAAAAAAAAAAAAAAAAAAAAAAAAAAAAAAAAAAAAAAAAAAAAAAAAAAAAAAAAAAAAAAAAAAAAAAAAAAAAAAAAAAAAAAAAAAAAAAAAAAAAAAAAAAAAAAAAAAAAAAAAAAAAAAAAAAAAAAAAAAAAAAAAAAAAAAAAAAAAAAAAAAAAAAAAAAAAAAAAAAAAAAAAAAAAAAAAAAAAAAAAAAAAAAAAAAAAAAAAAAAAAAAAAAAAAAAAAAAAAAAAAAAAAAAAAAAAAAAAAAAAAAAAAAAAAAAAAAAAAAAAAAAAAAAAAAAAAAAAAAAAAAAAAAAAAAAAAAAAAAAAAAAAAAAAAAAAAAAAAAAAAAAAAAAAAAAAAAAAAAAAAAAAAAAAAAAAAAAAAAAAAAAAAAAAAAAAAAAAAAAAAAAAAAAAAAAAAAAAAAAAAAAAAAAAAAAAAAAAAAAAAAAAAAAAAAAAAAAAAAAAAAAAAAAAAAAAAAAAAAAAAAAAAAAAAAAAAAAAAAAAAAAAAAAAAAAAAAAAAAAAAAAAAAAAAAAAAAAAAAAAAAAAAAAAAAAAAAAAAAAAAAAAAAAAAAAAAAAAAAAAAAAAAAAAAAAAAAAAAAAAAAAAAAAAAAAAAAAAAAAAAAAAAAAAAAAAAAAAAAAAAAAAAAAAAAAAAAAAAAAAAAAAAAAAAAAAAAAAAAAAAAAAAAAAAAAAAAAAAAAAAAAAAAAAAAAAAAAAAAAAAAAAAAAAAHUyCkJYZaUB+4/nO0zSNQEo9nimTSHlAHTdNYJ1IMEAAAAAAAAAAAAAAAAAAAAAAAAAAAAAAAAAAAAAAAAAAAAAAAAAAAAAAAAAAAAAAAAAAAAAAAAAAAAAAAAAAAAAAAAAAAAAAAAAAAAAAAAAAAAAAAAAAAAAAAAAAAAAAAAAAAAAAAAAAAAAAAAAAAAAAAAAAAAAAAAAAAAAAAAAAAAAAAAAAAAAAAAAAAAAAAAAAAAAAAAAAAAAAAAAAAAAAAAAAAAAAAAAAAAAAAAAAAAAAAAAAAAAAAAAAAAAAAAAAAAAAAAAAAAAAAAAAAAAALQQE7lYiYUDEOonum86CQF77ArL/nGVAAAAAAAAAAAAAAAAAAAAAAAAAAAAAAAAAAAAAAAAAAAAAAAAAAAAAAAAAAAAAAAAAAAAAAAAAAAAAAAAAAAAAAAAAAAAAAAAAAAAAAAAAAAAAAAAAAAAAAAAAAAAAAAAAAAAAAAAAAAAAAAAAAAAAAAAAAAAAAAAAAAAAAAAAAAAAAAAAAAAAAAAAAAAAAAAAAAAAAAAAAAAAAAAAAAAAAAAAAAAAAAAAAAAAAAAAAAAAAAAAAAAAAAAAAAAAAAAAAAAAAAAAAAAAAAAAAAAAAAAAAAAAAAAAAAAAAAAAAAAAAAAAAAAAAAAAAAAAAAAAAAAAAAAAAAAAAAAAAAAAAAAAAAAAAAAAAAAAAAAAAAAAAAAAAAAAAAAAAAAAAAAAAAAAAAAAAAAAAAAAAAAAAAAAAAAAAAAAAAAAAAAAAAAAAAAAAAAAAAAAAAAAAAAAAAAAAAAAAAAAAAAAAAAAAAAAAAAAAAAAAAAAAAAAAAAAAAAAAAAAAAAAAAAAAAAAAAAAAAAAAAAAAAAAAAAAAAAAAAAAAAAAAAAAAAAAAAAAAAAAAAAAAAAAAAAAAAAAAAAAAAAAAAAAAAAAAAAAAAAAAAAAAAAAAAAAAAAAAAAAAAAAAAAAAAAAAAAAAAAAAAAAAAAAAAAAAAAAAAAAAAAAAAAAAAAAAAAAAAAAAAAAAAAAAAAAAAAAAAAAAAAAAAAAAAAAAAAAAAAAAAAAAAAAAAAAAAAAAAAAAAAAAAAAAAAAAAAAAAAAAAAAAAAAAAAAAAAAAAAAAAAAAAAAAAAAAAAAAAAAAAAAAAAAAAAAAAAAAAAAAAAAAAAAAAAAAAAAAAAAAAAAAAAAAAAAAAAAAAAAAAAAAAAAAAAAAAAAAAAAAAAAAAAAAAAAAAAAAAAAAAAAAAAAAAAAAAAAAAAAAAAAAAAAAAAAAAAAAAAAAAAAAAAAAAAAAAAAAAAAAAAAAAAAAAAAAAAAAAAAAAAAAAAAAAAAAAAAAAAAAAAAAAAAAAAAAAAAAAAAAAAAAAAAAAAAAAAAAAAAAAAAAAAAAAAAAAAAAAAAAAAAAAAAAAAAAAAAAJ7JwjhI4ShACWMCLA7QiEAAVFV2z8RzQAAAAAAAAAAAAAAAAAAAAAAAAAAAAAAAAAAAAAAAAAAAAAAAAAAAAAAAAAAAAAAAAAAAAAAAAAAAAAAAAAAAAAAAAAAAAAAAAAAAAAAAAAAAAAAAAAAAAAAAAAAAAAAAAAAAAAAAAAAAAAAAAAAAAAAAAAAAAAAAAAAAAAAAAAAAAAAAAAAAAAAAAAAAAAAAAAAAAAAAAAAAAAAAAAAAAAAAAAAAAAAAAAAAAAAAAAAAAAAAAAAAAAAAAAAAAAAAAAAAAAAAAAAAAAAAAAAAAAAAAAAAAAAAAAAAAAAAAAAAAAAAAAAAAAAAAAAAAAAAAAAAAAAAAAAAAAAAAAAAAAAAAAAAAAAAAAAAAAAAAAAAAAAAAAAAAAAAAAAAAAAAAAAAAAAAAAAAAAAAAAAAAAAAAAAAAAAAAAAAAAAAAAAAAAAAAAAAAAAAAAAAAAAAAAAAAAAAAAAAAAAAAAAAAAAAAAAAAAAAAAAAAAAAAAAAAAAAAAAAAAAAAAAAAAAAAAAAAAAAAAAAAAAAAAAAAAAAAAAAAAAAAAAAAAAAAAAAAAAAAAAAAAAAAAAAAAAAAAAAAAAAAAAAAAAAAAAAAAAAAAAAAAAAAAAAAAAAAAAAAAAAAAAAAAAAAAAAAAAAAAAAAAAAAAAAAAAAAAAAAAAAAAAAAAAAAAAAAAAAAAAAAAAAAAAAAAAAAAAAAAAAAAAAAAAAAAAAAAAAAAAAAAAAAAAAAAAAAAAAAAAAAAAAAAAAAAAAAAAAAAAAAAAAAAAAAAAAAAAAAAAAAAAAAAAAAAAAAAAAAAAAAAAAAAAAuK/kqr/JYkAGO7mi/NmgQEPSLoK1IkhAAAAAAAAAAAAAAAAAAAAAAAAAAAAAAAAAAAAAAAAAAAAAAAAAAAAAAAAAAAAAAAAAAAAAAAAAAAAAAAAAAAAAAAAAAAAAAAAAAAAAAAAAAAAAAAAAAAAAAAAAAAAAAAAAAAAAAAAAAAAAAAAAAAAAAAAAAAAAAAAAAAAAAAAAAAAAAAAAAAAAAAAAAAAAAAAAAAAAAAAAAAAAAAAAAAAAAAAAAAAAAAAAAAAAAAAAAAAAAAAAAAAAAAAAAAAAAAAAAAAAAAAAAAAAAAAAAAAAAAfktjPeeSZALR4XiZ1CgEDus/w4b8lrQAAAAAAAAAAAAAAAAAAAAAAAAAAAAAAAAAAAAAAAAAAAAAAAAAAAAAAAAAAAAAAAAAAAAAAAAAAAAAAAAAAAAAAAAAAAAAAAAAAAAAAAAAAAAAAAAAAAAAAAAAAAAAAAAAAAAAAAAAAAAAAAAAAAAAAAAAAAAAAAAAAAAAAAAAAAAAAAAAAAAAAAAAAAAAAAAAAAAAAAAAAAAAAAAAAAAAAAAAAAAAAAAAAAAAAAAAAAAAAAAAAAAAAAAAAAAAAAAAAAAAAAAAAAAAAAAAAAAAAAAAAAAAAAAAAAAAAAAAAAAAAAAAAAAAAAAAAAAAAAAAAAAAAAAAAAAAAAAAAAAAAAAAAAAAAAAAAAAAAAAAAAAAAAAAAAAAAAAAAAAAAAAAAAAAAAAAAAAAAAAAAAAAAAAAAAAAAAAAAAAAAAAAAAAAAAAAAAAAAAAAAAAAAAAAAAAAAAAAAAAAAAAAAAAAAAAAAAAAAAAAAAAAAAAAAAAAAAAAAAAAAAAAAAAAAAAAAAAAAAAAAAAAAAAAAAAAAAAAAAAAAAAAAAAAAAAAAAAAAAAAAAAAAAAAAAAAAAAAAAAAAAAAAAAAAAAAAAAAAAAAAAAAAAAAAAAAAAAAAAAAAAAAAAAAAAAAAAAAAAAAAAAAAAAAAAAAAAAAAAAAAAAAAAAAAAAAAAAAAAAAAAAAAAAAAAAAAAAAAAAAAAAAAAAAAAAAAAAAAAAAAAAAAAAAAAAAAAAAAAAAAAAAAAAAAAAAAAAAAAAAAAAAAAAAAAAAAAAAAAAAAAAAAAAAAAAAAAAAAAAAAAAAAAAAAAAAAAAAAAAAAAAAAAAAAAAAAAAAAAAAAAAAAAAAAAAAAAAAAAAAAAAAAAAAAAAAAAAAAAAAAAAAAAAAAAAAAAAAAAAAAAAAAAAAAAAAAAAAAAAAAAAAAAAAAAAAAAAAAAAAAAAAAAAAAAAAAAAAAAAAAAAAAAAAAAAAAAAAAAAAAAAAAAAAAAAAAAAAAAAAAAAAAAAAAAAAAAAAAAAAAAAAAAAAAAAAAAAAAAAAAAAAAAAAAAAAAAAAAAAAAAAAAAAAAAAAAAAAAAAAAAAAAAAAAAAAAAAAAAAAAAAAAAAAAAAAAAAAAAAAAAAAAAAAAAAAAAAAAAAAAAAAAAAAAAAAAAAAAAAAAAAAAAAAAAAAAAAAAAAAAAAAAAAAAAAAAAAAAAAAAAAAAAAAAAAAAAAAAAAAAAAAAAAAAAAAAAAAAAAAAAAAAAAAAAAAAAAAAAAAAAAAAAAAAAAAAAAAAAAAAAAAAAAAAAAAAAAAAAAAAAAAAAAAAAAAAAAAAAAAAAAAAAAAAAAAAAAAAAAAAAAAAAAAAAAAAAAAAAAAAAAAAAAAAAAAAAAAAAAAAAAAAAAAAAAAAAAAAAAAAAAAAAAAAAAAAAAAAAAAAAAAAAAAAAAAAAAAAAAAAAAAAAAAAAAAAAAAAAAAAAAAAAAAAAAAAAAAAAAAAAAAAAAAAAAAAAAAAAAAAAAAAAAAAAAAAAAAAAAAAAAAAAAAAAAAAAAAAAAAAAAAAAAAAAAAAAAAAAAAAAAAAAAA==\",\"dtype\":\"float64\",\"order\":\"little\",\"shape\":[500]}},\"selected\":{\"id\":\"1049\"},\"selection_policy\":{\"id\":\"1048\"}},\"id\":\"1034\",\"type\":\"ColumnDataSource\"},{\"attributes\":{\"line_alpha\":0.1,\"line_color\":\"orangered\",\"line_width\":2,\"x\":{\"field\":\"x\"},\"y\":{\"field\":\"y\"}},\"id\":\"1036\",\"type\":\"Line\"},{\"attributes\":{},\"id\":\"1020\",\"type\":\"PanTool\"},{\"attributes\":{\"coordinates\":null,\"data_source\":{\"id\":\"1034\"},\"glyph\":{\"id\":\"1035\"},\"group\":null,\"hover_glyph\":null,\"muted_glyph\":{\"id\":\"1037\"},\"nonselection_glyph\":{\"id\":\"1036\"},\"view\":{\"id\":\"1039\"}},\"id\":\"1038\",\"type\":\"GlyphRenderer\"},{\"attributes\":{},\"id\":\"1021\",\"type\":\"WheelZoomTool\"},{\"attributes\":{\"line_alpha\":0.2,\"line_color\":\"orangered\",\"line_width\":2,\"x\":{\"field\":\"x\"},\"y\":{\"field\":\"y\"}},\"id\":\"1037\",\"type\":\"Line\"},{\"attributes\":{\"source\":{\"id\":\"1034\"}},\"id\":\"1039\",\"type\":\"CDSView\"},{\"attributes\":{},\"id\":\"1043\",\"type\":\"BasicTickFormatter\"},{\"attributes\":{},\"id\":\"1017\",\"type\":\"BasicTicker\"},{\"attributes\":{},\"id\":\"1046\",\"type\":\"BasicTickFormatter\"},{\"attributes\":{\"axis\":{\"id\":\"1016\"},\"coordinates\":null,\"dimension\":1,\"group\":null,\"ticker\":null},\"id\":\"1019\",\"type\":\"Grid\"},{\"attributes\":{},\"id\":\"1047\",\"type\":\"AllLabels\"},{\"attributes\":{},\"id\":\"1049\",\"type\":\"Selection\"},{\"attributes\":{\"coordinates\":null,\"group\":null,\"items\":[{\"id\":\"1052\"}]},\"id\":\"1051\",\"type\":\"Legend\"},{\"attributes\":{\"line_color\":\"orangered\",\"line_width\":2,\"x\":{\"field\":\"x\"},\"y\":{\"field\":\"y\"}},\"id\":\"1035\",\"type\":\"Line\"},{\"attributes\":{},\"id\":\"1008\",\"type\":\"LinearScale\"},{\"attributes\":{\"axis\":{\"id\":\"1012\"},\"coordinates\":null,\"group\":null,\"ticker\":null},\"id\":\"1015\",\"type\":\"Grid\"},{\"attributes\":{},\"id\":\"1048\",\"type\":\"UnionRenderers\"},{\"attributes\":{},\"id\":\"1013\",\"type\":\"BasicTicker\"},{\"attributes\":{},\"id\":\"1025\",\"type\":\"HelpTool\"},{\"attributes\":{\"tools\":[{\"id\":\"1020\"},{\"id\":\"1021\"},{\"id\":\"1022\"},{\"id\":\"1023\"},{\"id\":\"1024\"},{\"id\":\"1025\"}]},\"id\":\"1027\",\"type\":\"Toolbar\"},{\"attributes\":{},\"id\":\"1010\",\"type\":\"LinearScale\"},{\"attributes\":{},\"id\":\"1044\",\"type\":\"AllLabels\"},{\"attributes\":{\"coordinates\":null,\"formatter\":{\"id\":\"1043\"},\"group\":null,\"major_label_policy\":{\"id\":\"1044\"},\"ticker\":{\"id\":\"1017\"}},\"id\":\"1016\",\"type\":\"LinearAxis\"},{\"attributes\":{\"bottom_units\":\"screen\",\"coordinates\":null,\"fill_alpha\":0.5,\"fill_color\":\"lightgrey\",\"group\":null,\"left_units\":\"screen\",\"level\":\"overlay\",\"line_alpha\":1.0,\"line_color\":\"black\",\"line_dash\":[4,4],\"line_width\":2,\"right_units\":\"screen\",\"syncable\":false,\"top_units\":\"screen\"},\"id\":\"1026\",\"type\":\"BoxAnnotation\"},{\"attributes\":{\"coordinates\":null,\"formatter\":{\"id\":\"1046\"},\"group\":null,\"major_label_policy\":{\"id\":\"1047\"},\"ticker\":{\"id\":\"1013\"}},\"id\":\"1012\",\"type\":\"LinearAxis\"}],\"root_ids\":[\"1003\"]},\"title\":\"Bokeh Application\",\"version\":\"2.4.3\"}};\n",
       "  const render_items = [{\"docid\":\"abcb1887-b6ee-4c4b-9d7a-6ab71ac5a977\",\"root_ids\":[\"1003\"],\"roots\":{\"1003\":\"1e91b97b-c558-4b49-b3aa-626ff6af92db\"}}];\n",
       "  root.Bokeh.embed.embed_items_notebook(docs_json, render_items);\n",
       "  }\n",
       "  if (root.Bokeh !== undefined) {\n",
       "    embed_document(root);\n",
       "  } else {\n",
       "    let attempts = 0;\n",
       "    const timer = setInterval(function(root) {\n",
       "      if (root.Bokeh !== undefined) {\n",
       "        clearInterval(timer);\n",
       "        embed_document(root);\n",
       "      } else {\n",
       "        attempts++;\n",
       "        if (attempts > 100) {\n",
       "          clearInterval(timer);\n",
       "          console.log(\"Bokeh: ERROR: Unable to run BokehJS code because BokehJS library is missing\");\n",
       "        }\n",
       "      }\n",
       "    }, 10, root)\n",
       "  }\n",
       "})(window);"
      ],
      "application/vnd.bokehjs_exec.v0+json": ""
     },
     "metadata": {
      "application/vnd.bokehjs_exec.v0+json": {
       "id": "1003"
      }
     },
     "output_type": "display_data"
    }
   ],
   "source": [
    "fig = figure(width=FIGURE_WIDTH, height=FIGURE_HEIGHT)\n",
    "fig.line(x_data, y_data_cryspy, legend_label='CW Simulation', color='orangered', line_width=2)\n",
    "show(fig)"
   ]
  },
  {
   "cell_type": "markdown",
   "id": "c9a336a8",
   "metadata": {
    "pycharm": {
     "name": "#%% md\n"
    }
   },
   "source": [
    "###  Switch calculator"
   ]
  },
  {
   "cell_type": "code",
   "execution_count": 17,
   "id": "eeeb243b",
   "metadata": {},
   "outputs": [],
   "source": [
    "# The following code generates AttributeError\n",
    "#calculator.switch('CrysFML')\n",
    "#_ = job.create_simulation(x_data)"
   ]
  },
  {
   "cell_type": "code",
   "execution_count": 18,
   "id": "20c3ce77",
   "metadata": {
    "pycharm": {
     "name": "#%%\n"
    }
   },
   "outputs": [],
   "source": [
    "# Temporary workaround\n",
    "job.interface = InterfaceFactory(interface_name='CrysFML')"
   ]
  },
  {
   "cell_type": "code",
   "execution_count": 19,
   "id": "d6012853",
   "metadata": {
    "pycharm": {
     "name": "#%%\n"
    }
   },
   "outputs": [
    {
     "name": "stdout",
     "output_type": "stream",
     "text": [
      "Current calculator engine: CrysFML\n"
     ]
    }
   ],
   "source": [
    "print(f\"Current calculator engine: {job.interface.current_interface_name}\")"
   ]
  },
  {
   "cell_type": "markdown",
   "id": "271bf903",
   "metadata": {
    "pycharm": {
     "name": "#%% md\n"
    }
   },
   "source": [
    "## Simulation"
   ]
  },
  {
   "cell_type": "markdown",
   "id": "0c0b9ac4",
   "metadata": {
    "pycharm": {
     "name": "#%% md\n"
    }
   },
   "source": [
    "### Calculate the profile using the calculator engine just selected"
   ]
  },
  {
   "cell_type": "code",
   "execution_count": 20,
   "id": "e03a750e",
   "metadata": {
    "pycharm": {
     "name": "#%%\n"
    }
   },
   "outputs": [
    {
     "name": "stdout",
     "output_type": "stream",
     "text": [
      " XRAY_2THE       \n"
     ]
    }
   ],
   "source": [
    "_ = job.create_simulation(x_data)\n",
    "y_data_crysfml = np.array(data['sim_NaCl'])"
   ]
  },
  {
   "cell_type": "code",
   "execution_count": 21,
   "id": "70544360",
   "metadata": {},
   "outputs": [
    {
     "name": "stdout",
     "output_type": "stream",
     "text": [
      "some Ycalc from CrysFML:\n",
      " [0. 0. 0. 0. 0. 0. 0. 0. 0. 0. 0. 0. 0. 0. 0.]\n"
     ]
    }
   ],
   "source": [
    "print(\"some Ycalc from CrysFML:\\n\", y_data_crysfml[315:330])"
   ]
  },
  {
   "cell_type": "code",
   "execution_count": 22,
   "id": "071a29ea",
   "metadata": {
    "pycharm": {
     "name": "#%%\n"
    }
   },
   "outputs": [
    {
     "data": {
      "text/html": [
       "\n",
       "  <div class=\"bk-root\" id=\"2aeba1e1-d15e-4ae2-af62-467c4fbd11fa\" data-root-id=\"1119\"></div>\n"
      ]
     },
     "metadata": {},
     "output_type": "display_data"
    },
    {
     "data": {
      "application/javascript": [
       "(function(root) {\n",
       "  function embed_document(root) {\n",
       "  const docs_json = {\"80f61a64-2db3-4dda-887d-ac9f42c390d6\":{\"defs\":[],\"roots\":{\"references\":[{\"attributes\":{\"below\":[{\"id\":\"1128\"}],\"center\":[{\"id\":\"1131\"},{\"id\":\"1135\"},{\"id\":\"1167\"}],\"height\":300,\"left\":[{\"id\":\"1132\"}],\"renderers\":[{\"id\":\"1154\"}],\"title\":{\"id\":\"1156\"},\"toolbar\":{\"id\":\"1143\"},\"width\":700,\"x_range\":{\"id\":\"1120\"},\"x_scale\":{\"id\":\"1124\"},\"y_range\":{\"id\":\"1122\"},\"y_scale\":{\"id\":\"1126\"}},\"id\":\"1119\",\"subtype\":\"Figure\",\"type\":\"Plot\"},{\"attributes\":{},\"id\":\"1159\",\"type\":\"BasicTickFormatter\"},{\"attributes\":{},\"id\":\"1140\",\"type\":\"ResetTool\"},{\"attributes\":{\"coordinates\":null,\"group\":null},\"id\":\"1156\",\"type\":\"Title\"},{\"attributes\":{\"coordinates\":null,\"group\":null,\"items\":[{\"id\":\"1168\"}]},\"id\":\"1167\",\"type\":\"Legend\"},{\"attributes\":{},\"id\":\"1160\",\"type\":\"AllLabels\"},{\"attributes\":{},\"id\":\"1162\",\"type\":\"BasicTickFormatter\"},{\"attributes\":{\"source\":{\"id\":\"1150\"}},\"id\":\"1155\",\"type\":\"CDSView\"},{\"attributes\":{},\"id\":\"1163\",\"type\":\"AllLabels\"},{\"attributes\":{\"data\":{\"x\":{\"__ndarray__\":\"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\",\"dtype\":\"float64\",\"order\":\"little\",\"shape\":[500]},\"y\":{\"__ndarray__\":\"AAAAAAAAAAAAAAAAAAAAAAAAAAAAAAAAAAAAAAAAAAAAAAAAAAAAAAAAAAAAAAAAAAAAAAAAAAAAAAAAAAAAAAAAAAAAAAAAAAAAAAAAAAAAAAAAAAAAAAAAAAAAAAAAAAAAAAAAAAAAAAAAAAAAAAAAAAAAAAAAAAAAAAAAAAAAAAAAAAAAAAAAAAAAAAAAAAAAAAAAAAAAAAAAAAAAAAAAAAAAAAAAAAAAAAAAAAAAAAAAAAAAAAAAAAAAAAAAAAAAAAAAAAAAAAAAAAAAAAAAAAAAAAAAAAAAAAAAAAAAAAAAAAAAAAAAAAAAAAAAAAAAAAAAAAAAAAAAAAAAAAAAAAAAAAAAAAAAAAAAAAAAAAAAAAAAAAAAAAAAAAAAAAAAAAAAAAAAAAAAAAAAAAAAAAAAAAAAAAAAAAAAAAAAAAAAAAAAAAAAAAAAAAAAAAAAAAAAAAAAAAAAAAAAAAAAAAAAAAAAAAAAAAAAAAAAAAAAAAAAAAAAAAAAAAAAAAAAAAAAAAAAAAAAAAAAAAAAAAAAAAAAAAAAAAAAAAAAAAAAAAAAAAAAAAAAAAAAAAAAAAAAAAAAAAAAAAAAAAAAAAAAAAAAAAAAAAAAAAAAAAAAAAAAAAAAAAAAAAAAAAAAAAAAAAAAAAAAAAAAAAAAAAAAAAAAAAAAAAAAAAAAAAAAAAAAAAAAAAAAAAAAAAAAAAAAAAAAAAAAAAAAAAAAAAAAAAAAAAAAAAAAAAAAAAAAAAAAAAAAAAAAAAAAAAAAAAAAAAAAAAAAAAAAAAAAAAAAAAAAAAAAAAAAAAAAAAAAAAAAAAAAAAAAAAAAAAAAAAAAAAAAAAAAAAAAAAAAAAAAAAAAAAAAAAAAAAAAAAAAAAAAAAAAAAAAAAAAAAAAAAAAAAAAAAAAAAAAAAAAAAAAAAAAAAAAAAAAAAAAAAAAAAAAAAAAAAAAAAAAAAAAAAAAAAAAAAAAAAAAAAAAAAAAAAAAAAAAAAAAAAAAAAAAAAAAAAAAAAAAAAAAAAAAAAAAAAAAAAAAAAAAAAAAAAAAAAAAAAAAAAAAAAAAAAAAAAAAAAAAAAAAAAAAAAAAAAAAAAAAAAAAAAAAAAAAAAAAAAAAAAAAAAAAAAAAAAAAAAAAAAAAAAAAAAAAAAAAAAAAAAAAAAAAAAAAAAAAAAAAAAAAAAAAAAAAAAAAAAAAAAAAAAAAAAAAAAAAAAAAAAAAAAAAAAAAAAAAAAAAAAAAAAAAAAAAAAAAAAAAAAAAAAAAAAAAAAAAAAAAAAAAAAAAAAAAAAAAAAAAAAAAAAAAAAAAAAAAAAAAAAAAAAAAAAAAAAAAAAAAAAAAAAAAAAAAAAAAAAAAAAAAAAAAAAAAAAAAAAAAAAAAAAAAAAAAAAAAAAAAAAAAAAAAAAAAAAAAAAAAAAAAAAAAAAAAAAAAAAAAAAAAAAAAAAAAAAAAAAAAAAAAAAAAAAAAAAAAAAAAAAAAAAAAAAAAAAAAAAAAAAAAAAAAAAAAAAAAAAAAAAAAAAAAAAAAAAAAAAAAAAAAAAAAAAAAAAAAAAAAAAAAAAAAAAAAAAAAAAAAAAAAAAAAAAAAAAAAAAAAAAAAAAAAAAAAAAAAAAAAAAAAAAAAAAAAAAAAAAAAAAAAAAAAAAAAAAAAAAAAAAAAAAAAAAAAAAAAAAAAAAAAAAAAAAAAAAAAAAAAAAAAAAAAAAAAAAAAAAAAAAAAAAAAAAAAAAAAAAAAAAAAAAAAAAAAAAAAAAAAAAAAAAAAAAAAAAAAAAAAAAAAAAAAAAAAAAAAAAAAAAAAAAAAAAAAAAAAAAAAAAAAAAAAAAAAAAAAAAAAAAAAAAAAAAAAAAAAAAAAAAAAAAAAAAAAAAAAAAAAAAAAAAAAAAAAAAAAAAAAAAAAAAAAAAAAAAAAAAAAAAAAAAAAAAAAAAAAAAAAAAAAAAAAAAAAAAAAAAAAAAAAAAAAAAAAAAAAAAAAAAAAAAAAAAAAAAAAAAAAAAAAAAAAAAAAAAAAAAAAAAAAAAAAAAAAAAAAAAAAAAAAAAAAAAAAAAAAAAAAAAAAAAAAAAAAAAAAAAAAAAAAAAAAAAAAAAAAAAAAAAAAAAAAAAAAAAAAAAAAAAAAAAAAAAAAAAAAAAAAAAAAAAAAAAAAAAAAAAAAAAAAAAAAAAAAAAAAAAAAAAAAAAAAAAAAAAAAAAAAAAAAAAAAAAAAAAAAAAAAAAAAAAAAAAAAAAAAAAAAAAAAAAAAAAAAAAAAAAAAAAAAAAAAAAAAAAAAAAAAAAAAAAAAAAAAAAAAAAAAAAAAAAAAAAAAAAAAAAAAAAAAAAAAAAAAAAAAAAAAAAAAAAAAAAAAAAAAAAAAAAAAAAAAAAAAAAAAAAAAAAAAAAAAAAAAAAAAAAAAAAAAAAAAAAAAAAAAAAAAAAAAAAAAAAAAAAAAAAAAAAAAAAAAAAAAAAAAAAAAAAAAAAAAAAAAAAAAAAAAAAAAAAAAAAAAAAAAAAAAAAAAAAAAAAAAAAAAAAAAAAAAAAAAAAAAAAAAAAAAAAAAAAAAAAAAAAAAAAAAAAAAAAAAAAAAAAAAAAAAAAAAAAAAAAAAAAAAAAAAAAAAAAAAAAAAAAAAAAAAAAAAAAAAAAAAAAAAAAAAAAAAAAAAAAAAAAAAAAAAAAAAAAAAAAAAAAAAAAAAAAAAAAAAAAAAAAAAAAAAAAAAAAAAAAAAAAAAAAAAAAAAAAAAAAAAAAAAAAAAAAAAAAAAAAAAAAAAAAAAAAAAAAAAAAAAAAAAAAAAAAAAAAAAAAAAAAAAAAAAAAAAAAAAAAAAAAAAAAAAAAAAAAAAAAAAAAAAAAAAAAAAAAAAAAAAAAAAAAAAAAAAAAAAAAAAAAAAAAAAAAAAAAAAAAAAAAAAAAAAAAAAAAAAAAAAAAAAAAAAAAAAAAAAAAAAAAAAAAAAAAAAAAAAAAAAAAAAAAAAAAAAAAAAAAAAAAAAAAAAAAAAAAAAAAAAAAAAAAAAAAAAAAAAAAAAAAAAAAAAAAAAAAAAAAAAAAAAAAAAAAAAAAAAAAAAAAAAAAAAAAAAAAAAAAAAAAAAAAAAAAAAAAAAAAAAAAAAAAAAAAAAAAAAAAAAAAAAAAAAAAAAAAAAAAAAAAAAAAAAAAAAAAAAAAAAAAAAAAAAAAAAAAAAAAAAAAAAAAAAAAAAAAAAAAAAAAAAAAAAAAAAAAAAAAAAAAAAAAAAAAAAAAAAAAAAAAAAAAAAAAAAAAAAAAAAAAAAAAAAAAAAAAAAAAAAAAAAAAAAAAAAAAAAAAAAAAAAAAAAAAAAAAAAAAAAAAAAAAAAAAAAAAAAAAAAAAAAAAAAAAAAAAAAAAAAAAAAAAAAAAAAAAAAAAAAAAAAAAAAAAAAAAAAAAAAAAAAAAAAAAAAAAAAAAAAAAAAAAAAAAAAAAAAAAAAAAAAAAAAAAAAAAAAAAAAAAAAAAAAAAAAAAAAAAAAAAAAAAAAAAAAAAAAAAAAAAAAAAAAAAAAAAAAAAAAAAAAAAAAAAAAAAAAAAAAAAAAAAAAAAAAAAAAAAAAAAAAAAAAAAAAAAAAAAAAAAAAAAAAAAAAAAAAAAAAAAAAAAAAAAAAAAAAAAAAAAAAAAAAAAAAAAAAAAAAAAAAAAAAAAAAAAAAAAAAAAAAAAAAAAAAAAAAAAAAAAAAAAAAAAAAAAAAAAAAAAAAAAAAAAAAAAAAAAAAAAAAAAAAAAAAAAAAAAAAAAAAAAAAAAAAAAAAAAAAAAAAAAAAAAAAAAAAAAAAAAAAAAAAAAAAAAAAAAAAAAAAAAAAAAAAAAAAAAAAAAAAAAAAAAAAAAAAAAAAAAAAAAAAAAAAAAAAAAAAAAAAAAAAAAAAAAAAAAAAAAAAAAAAAAAAAAAAAAAAAAAAAAAAAAAAAAAAAAAAAAAAAAAAAAAAAAAAAAAAAAAAAAAAAAAAAAAAAAAAAAAAAAAAAAAAAAAAAAAAAAAAAAAAAAAAAAAAAAAAAAAAAAAAAAAAAAAAAAAAAAAAAAAAAAAAAAAAAAAAAAAAAAAAAAAAAAAAAAAAAAAAAAAAAAAAAAAAAAAAAAAAAAAAAAAAAAAAAAAAAAAAAAAAAAAAAAAAAAAAAAAAAAAAAAAAAAAAAAAAAAAAAAAAAAAAAAAAAAAAAAAAAAAAAAAAAAAAAAAAAAAAAAAAAAAAAAAAAAAAAAAAAAAAAAAAAAAAAAAAAAAAAAAAAAAAAAAAAAAAAAAAAAAAAAAAAAAAAAAAAAAAAAAAAAAAAAAAAAAAAAAAAAAAAAAAAAAAAAAAAAAAAAAAAAAAAAAAAAAAAAAAAAAAAAAAAAAAAAAAAAAAAAAAAAAAAAAAAAAAAAAAAAAAAAAAAAAAAAAAAAAAAAAAAAAAAAAAAAAAAAAAAAAAAAAAAAAAAAAAAAAAAAAAAAAAAAAAAAAAAAAAAAAAAAAAAAAAAAAAAAAAAAAAAAAAAAAAAAAAAAAAAAAAAAAAAAAAAAAAAAAAAAAAAAAAAAAAAAAAAAAAAAAAAAAAAAAAAAAAAAAAAAAAAAAAAAAAAAAAAAAAAAAAAAAAAAAAAAAAAAAAAAAAAAAAAAAAAAAAAAAAAAAAAAAAAAAAAAAAAAAAAAAAAAAAAAAAAAAAAAAAAAAAAAAAAAAAAAAAAAAAAAAAAAAAAAAAAAAAAAAAAAAAAAAAAAAAAAAAAAAAAAAAAAAAAAAAAAAAAAAAAAAAAAAAAAAAAAAAAAAAAAAAAAAAAAAAAAAAAAAAAAAAAAAAAAAAAAAAAAAAAAAAAAAAAAAAAAAAAAAAAAAAAAAAAAAAAAAAAAAAAAAAAAAAAAAAAAAAAAAAAAAAAAAAAAAAAAAAAAAAAAAAAAAAAAAAAAAAAAAAAAAAAAAAAAAAAAAAAAAAAAAAAAAAAAAAAAAAAAAAAAAAAAAAAAAAAAAAAAAAAAAAAAAAAAAAAAAAAAAAAAAAAAAAAAAAAAAAAAAAAAAAAAAAAAAAAAAAAAAAAAAAAAAAAAAAAAAAAAAAAAAAAAAAAAAAAAAAAAAAAAAAAAAAAAAAAAAAAAAAAAAAAAAAAAAAAAAAAAAAAAAAAAAAAAAAAAAAAAAAAAAAAAAAAAAAAAAAAAAAAAAAAAAAAAAAAAAAAAAAAAAAAAAAAAAAAAAAAAAAAAAAAAAAAAAAAAAAAAAAAAAAAAAAAAAAAAAAAAAAAAAAAAAAAAAAAAAAAAAAAAAAAAAAAAAAAAAAAAAAAAAAAAAAAAAAAAAAAAAAAAAAAAAAAAAAAAAAAAAAAAAAAAAAAAAAAAAAAAAAAAAAAAAAAAAAAAAAAAAAAAAAAAAAAAAAAAAAAA==\",\"dtype\":\"float64\",\"order\":\"little\",\"shape\":[500]}},\"selected\":{\"id\":\"1165\"},\"selection_policy\":{\"id\":\"1164\"}},\"id\":\"1150\",\"type\":\"ColumnDataSource\"},{\"attributes\":{},\"id\":\"1136\",\"type\":\"PanTool\"},{\"attributes\":{\"coordinates\":null,\"formatter\":{\"id\":\"1162\"},\"group\":null,\"major_label_policy\":{\"id\":\"1163\"},\"ticker\":{\"id\":\"1129\"}},\"id\":\"1128\",\"type\":\"LinearAxis\"},{\"attributes\":{\"axis\":{\"id\":\"1132\"},\"coordinates\":null,\"dimension\":1,\"group\":null,\"ticker\":null},\"id\":\"1135\",\"type\":\"Grid\"},{\"attributes\":{\"line_color\":\"olivedrab\",\"line_width\":2,\"x\":{\"field\":\"x\"},\"y\":{\"field\":\"y\"}},\"id\":\"1151\",\"type\":\"Line\"},{\"attributes\":{\"coordinates\":null,\"data_source\":{\"id\":\"1150\"},\"glyph\":{\"id\":\"1151\"},\"group\":null,\"hover_glyph\":null,\"muted_glyph\":{\"id\":\"1153\"},\"nonselection_glyph\":{\"id\":\"1152\"},\"view\":{\"id\":\"1155\"}},\"id\":\"1154\",\"type\":\"GlyphRenderer\"},{\"attributes\":{\"line_alpha\":0.1,\"line_color\":\"olivedrab\",\"line_width\":2,\"x\":{\"field\":\"x\"},\"y\":{\"field\":\"y\"}},\"id\":\"1152\",\"type\":\"Line\"},{\"attributes\":{},\"id\":\"1122\",\"type\":\"DataRange1d\"},{\"attributes\":{\"line_alpha\":0.2,\"line_color\":\"olivedrab\",\"line_width\":2,\"x\":{\"field\":\"x\"},\"y\":{\"field\":\"y\"}},\"id\":\"1153\",\"type\":\"Line\"},{\"attributes\":{\"overlay\":{\"id\":\"1142\"}},\"id\":\"1138\",\"type\":\"BoxZoomTool\"},{\"attributes\":{\"bottom_units\":\"screen\",\"coordinates\":null,\"fill_alpha\":0.5,\"fill_color\":\"lightgrey\",\"group\":null,\"left_units\":\"screen\",\"level\":\"overlay\",\"line_alpha\":1.0,\"line_color\":\"black\",\"line_dash\":[4,4],\"line_width\":2,\"right_units\":\"screen\",\"syncable\":false,\"top_units\":\"screen\"},\"id\":\"1142\",\"type\":\"BoxAnnotation\"},{\"attributes\":{\"tools\":[{\"id\":\"1136\"},{\"id\":\"1137\"},{\"id\":\"1138\"},{\"id\":\"1139\"},{\"id\":\"1140\"},{\"id\":\"1141\"}]},\"id\":\"1143\",\"type\":\"Toolbar\"},{\"attributes\":{},\"id\":\"1139\",\"type\":\"SaveTool\"},{\"attributes\":{\"label\":{\"value\":\"CW Simulation\"},\"renderers\":[{\"id\":\"1154\"}]},\"id\":\"1168\",\"type\":\"LegendItem\"},{\"attributes\":{},\"id\":\"1164\",\"type\":\"UnionRenderers\"},{\"attributes\":{},\"id\":\"1129\",\"type\":\"BasicTicker\"},{\"attributes\":{},\"id\":\"1165\",\"type\":\"Selection\"},{\"attributes\":{\"coordinates\":null,\"formatter\":{\"id\":\"1159\"},\"group\":null,\"major_label_policy\":{\"id\":\"1160\"},\"ticker\":{\"id\":\"1133\"}},\"id\":\"1132\",\"type\":\"LinearAxis\"},{\"attributes\":{},\"id\":\"1126\",\"type\":\"LinearScale\"},{\"attributes\":{},\"id\":\"1141\",\"type\":\"HelpTool\"},{\"attributes\":{},\"id\":\"1120\",\"type\":\"DataRange1d\"},{\"attributes\":{},\"id\":\"1133\",\"type\":\"BasicTicker\"},{\"attributes\":{},\"id\":\"1124\",\"type\":\"LinearScale\"},{\"attributes\":{},\"id\":\"1137\",\"type\":\"WheelZoomTool\"},{\"attributes\":{\"axis\":{\"id\":\"1128\"},\"coordinates\":null,\"group\":null,\"ticker\":null},\"id\":\"1131\",\"type\":\"Grid\"}],\"root_ids\":[\"1119\"]},\"title\":\"Bokeh Application\",\"version\":\"2.4.3\"}};\n",
       "  const render_items = [{\"docid\":\"80f61a64-2db3-4dda-887d-ac9f42c390d6\",\"root_ids\":[\"1119\"],\"roots\":{\"1119\":\"2aeba1e1-d15e-4ae2-af62-467c4fbd11fa\"}}];\n",
       "  root.Bokeh.embed.embed_items_notebook(docs_json, render_items);\n",
       "  }\n",
       "  if (root.Bokeh !== undefined) {\n",
       "    embed_document(root);\n",
       "  } else {\n",
       "    let attempts = 0;\n",
       "    const timer = setInterval(function(root) {\n",
       "      if (root.Bokeh !== undefined) {\n",
       "        clearInterval(timer);\n",
       "        embed_document(root);\n",
       "      } else {\n",
       "        attempts++;\n",
       "        if (attempts > 100) {\n",
       "          clearInterval(timer);\n",
       "          console.log(\"Bokeh: ERROR: Unable to run BokehJS code because BokehJS library is missing\");\n",
       "        }\n",
       "      }\n",
       "    }, 10, root)\n",
       "  }\n",
       "})(window);"
      ],
      "application/vnd.bokehjs_exec.v0+json": ""
     },
     "metadata": {
      "application/vnd.bokehjs_exec.v0+json": {
       "id": "1119"
      }
     },
     "output_type": "display_data"
    }
   ],
   "source": [
    "fig = figure(width=FIGURE_WIDTH, height=FIGURE_HEIGHT)\n",
    "fig.line(x_data, y_data_crysfml, legend_label='CW Simulation', color='olivedrab', line_width=2)\n",
    "show(fig)"
   ]
  }
 ],
 "metadata": {
  "kernelspec": {
   "display_name": "Python 3 (ipykernel)",
   "language": "python",
   "name": "python3"
  },
  "language_info": {
   "codemirror_mode": {
    "name": "ipython",
    "version": 3
   },
   "file_extension": ".py",
   "mimetype": "text/x-python",
   "name": "python",
   "nbconvert_exporter": "python",
   "pygments_lexer": "ipython3",
   "version": "3.8.10"
  }
 },
 "nbformat": 4,
 "nbformat_minor": 5
}
